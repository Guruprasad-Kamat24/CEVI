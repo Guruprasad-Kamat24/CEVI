{
  "cells": [
    {
      "cell_type": "markdown",
      "metadata": {
        "id": "ymgkHqYzBI95"
      },
      "source": [
        "# Linear Regretion"
      ]
    },
    {
      "cell_type": "code",
      "execution_count": null,
      "metadata": {
        "colab": {
          "base_uri": "https://localhost:8080/",
          "height": 302
        },
        "id": "1pFLxDfGa3sR",
        "outputId": "f89ea6db-5af1-4b2e-dec0-0219ffa52b03"
      },
      "outputs": [
        {
          "name": "stdout",
          "output_type": "stream",
          "text": [
            "Training completed\n",
            "2.0004983313322504\n"
          ]
        },
        {
          "data": {
            "image/png": "[encoded data removed]",
            "text/plain": [
              "<Figure size 432x288 with 1 Axes>"
            ]
          },
          "metadata": {},
          "output_type": "display_data"
        }
      ],
      "source": [
        "#Linear regretion\n",
        "import numpy as np\n",
        "import matplotlib.pyplot as plt\n",
        "\n",
        "X = [1,2,3,4,5,6,7,8,9,10]\n",
        "Y = [2,4,6,8,10,12,14,16,18,20]\n",
        "def hyp(w1,X):\n",
        "  return w1*X\n",
        "\n",
        "def cost(X,Y,w1):\n",
        "  cost=0\n",
        "  for i in range(len(X)):\n",
        "     y_hat = hyp(w1,X[i])\n",
        "     cost+= (y_hat-Y[i])**2\n",
        "     return cost/len(X)\n",
        "\n",
        "\n",
        "def diff(w1,X,Y):\n",
        "  dif = 0\n",
        "  for i in range(len(X)):\n",
        "    dif+=((hyp(w1,X[i])-Y[i])*X[i])\n",
        "    return (dif*2)/len(X)\n",
        "\n",
        "lr = 0.01\n",
        "w1 = -10\n",
        "nw1 = 10\n",
        "Overall = []\n",
        "\n",
        "while(abs(nw1-w1)>0.000001):\n",
        "  w1 = nw1\n",
        "  Overall.append(cost(X,Y,w1))\n",
        "  nw1 = w1 - lr*diff(w1,X,Y)\n",
        "print(\"Training completed\")\n",
        "print(nw1)\n",
        "plt.plot(Overall)\n",
        "plt.show()"
      ]
    },
    {
      "cell_type": "markdown",
      "metadata": {
        "id": "yfBd29e1-pNE"
      },
      "source": [
        ""
      ]
    },
    {
      "cell_type": "code",
      "execution_count": null,
      "metadata": {
        "colab": {
          "base_uri": "https://localhost:8080/",
          "height": 317
        },
        "id": "IYHKP1kKrWtS",
        "outputId": "736ea690-8464-4c2d-bf44-3a553ab37187"
      },
      "outputs": [
        {
          "name": "stdout",
          "output_type": "stream",
          "text": [
            "3.9907593192737387\n",
            "1.0087418376019184\n"
          ]
        },
        {
          "data": {
            "text/plain": [
              "[<matplotlib.lines.Line2D at 0x7f6eac90e450>]"
            ]
          },
          "execution_count": 24,
          "metadata": {},
          "output_type": "execute_result"
        },
        {
          "data": {
            "image/png": "[encoded data removed]",
            "text/plain": [
              "<Figure size 432x288 with 1 Axes>"
            ]
          },
          "metadata": {},
          "output_type": "display_data"
        }
      ],
      "source": [
        "import numpy as np\n",
        "import matplotlib.pyplot as plt\n",
        "x =[ 1,2,3,4,5,6,7,8,9,10]\n",
        "y=[5,9,13,17,21,25,29,33,37,41]\n",
        "def hyp(w1,x,w0):\n",
        "  return w1*x+w0\n",
        "def cost(x,y,w1,w0):\n",
        "   cost = 0\n",
        "   for i in range(len(x)):\n",
        "     y_hat = hyp(w1,x[i],w0)\n",
        "     cost+= (y_hat-y[i])**2\n",
        "     return cost/len(x)\n",
        "\n",
        "overall=[]\n",
        "lr = 0.01\n",
        "w1=-10\n",
        "nw1=2\n",
        "w0=10\n",
        "nw0=-1\n",
        "\n",
        "def diff (w1,x,y):\n",
        "  dif = 0\n",
        "  for i in range(len(x)):\n",
        "    dif+=((hyp(w1,x[i],w0))-y[i]*x[i])\n",
        "    return (dif*2)/len(x)\n",
        "def diff_2 (w0,x,y):\n",
        "  dif = 0\n",
        "  for i in range(len(x)):\n",
        "    dif+=((hyp(w1,x[i],w0))-y[i])\n",
        "    return (dif*2)/len(x)\n",
        "overall=[]\n",
        "while(abs(nw1-w1)>0.000001):\n",
        "  w1=nw1\n",
        "  overall.append(cost(x,y,w1,w0))\n",
        "  nw1= w1-(lr*diff(w1,x,y))\n",
        "  w0=nw0\n",
        "  nw0= w0-(lr*diff_2(w0,x,y))\n",
        "  overall.append(cost(x,y,w1,w0))\n",
        "  \n",
        "print(w1)\n",
        "print(w0)\n",
        "plt.plot(overall)"
      ]
    },
    {
      "cell_type": "markdown",
      "metadata": {
        "id": "gCiWjC5q-qp4"
      },
      "source": [
        "# Multivariable regretion"
      ]
    },
    {
      "cell_type": "code",
      "execution_count": null,
      "metadata": {
        "colab": {
          "base_uri": "https://localhost:8080/",
          "height": 300
        },
        "id": "4IP39j3nrNAQ",
        "outputId": "6e2b313b-96e4-4f68-a467-a717c61f7564"
      },
      "outputs": [
        {
          "data": {
            "image/png": "[encoded data removed]",
            "text/plain": [
              "<Figure size 432x288 with 1 Axes>"
            ]
          },
          "metadata": {},
          "output_type": "display_data"
        },
        {
          "name": "stdout",
          "output_type": "stream",
          "text": [
            "1.0007508248066745\n",
            "3.9987523244608933\n"
          ]
        }
      ],
      "source": [
        "import numpy as np\n",
        "import matplotlib.pyplot as plt\n",
        "import math\n",
        "x =[ 1,2,3,4,5,6,7,8,9,10]\n",
        "y=[5,9,13,17,21,25,29,33,37,41]\n",
        "def hyp(w1,w2,x,):\n",
        "  return w2*(x)**2+w1*x\n",
        "def cost(x,y,w1,w2):\n",
        "   cost = 0\n",
        "   for i in range(len(x)):\n",
        "     y_hat = hyp(w1,w2,x[i])\n",
        "     cost+= (y_hat-y[i])**2\n",
        "     return cost/len(x)\n",
        "\n",
        "overall=[]\n",
        "lr = 0.01\n",
        "w1=-10\n",
        "nw1=2\n",
        "w2 = 2\n",
        "nw2 =-1 \n",
        "\n",
        "\n",
        "\n",
        "def diff (w1,w2,x,y):\n",
        "  dif = 0\n",
        "  for i in range(len(x)):\n",
        "    dif+=((hyp(w1,w2,x[i]))-y[i])*x[i]\n",
        "    return (dif*2)/len(x)\n",
        "def diff_2 (w1,w2,x,y):\n",
        "  dif = 0\n",
        "  for i in range(len(x)):\n",
        "    dif+=((hyp(w1,w2,x[i]))-y[i])*x[i]**2\n",
        "    return (dif*2)/len(x)\n",
        "\n",
        "while(abs(nw1-w1)>0.000001 and abs(nw2-w2)>0.000001):\n",
        "  w1=nw1\n",
        "  nw1= w1-(lr*diff(w1,w2,x,y))\n",
        "  w2=nw2\n",
        "  nw2= w2-(lr*diff_2(w1,w2,x,y))\n",
        "  overall.append(cost(x,y,w1,w2))\n",
        " \n",
        "plt.plot(overall)\n",
        "plt.show()\n",
        "print(nw2)\n",
        "print(nw1)"
      ]
    },
    {
      "cell_type": "code",
      "execution_count": null,
      "metadata": {
        "colab": {
          "base_uri": "https://localhost:8080/",
          "height": 300
        },
        "id": "fbzTODgP3Kcn",
        "outputId": "d18202b6-8bac-4cea-acd0-9d2b706eb9fd"
      },
      "outputs": [
        {
          "data": {
            "image/png": "[encoded data removed]",
            "text/plain": [
              "<Figure size 432x288 with 1 Axes>"
            ]
          },
          "metadata": {},
          "output_type": "display_data"
        },
        {
          "name": "stdout",
          "output_type": "stream",
          "text": [
            "2.9967062964108115\n",
            "1.0014013975095497\n"
          ]
        }
      ],
      "source": [
        "import numpy as np\n",
        "import matplotlib.pyplot as plt\n",
        "import math\n",
        "x1 =[ 1,2,3,4,5,6,7,8,9,10]\n",
        "x2 =[2,4,6,8,10,12,14,16,18,20]\n",
        "y=[5,9,13,17,21,25,29,33,37,41]\n",
        "def hyp(w1,w2,x1,x2):\n",
        "  return w2*(x2)+w1*(x1)\n",
        "def cost(x1,x2,y,w1,w2):\n",
        "   cost = 0\n",
        "   for i in range(len(x1)):\n",
        "     y_hat = hyp(w1,w2,x1[i],x2[i])\n",
        "     cost+= (y_hat-y[i])**2\n",
        "     return cost/len(x)\n",
        "\n",
        "def diff_w1(w1,w2,x1,x2,y):\n",
        "  dif = 0\n",
        "  for i in range(len(x1)):\n",
        "    dif+=((hyp(w1,w2,x1[i],x2[i]))-y[i])*x1[i]\n",
        "    return (dif*2)/len(x)\n",
        "def diff_w2 (w1,w2,x1,x2,y):\n",
        "  dif = 0\n",
        "  for i in range(len(x1)):\n",
        "    dif+=((hyp(w1,w2,x1[i],x2[i]))-y[i])*x2[i]\n",
        "    return (dif*2)/len(x)\n",
        "\n",
        "overall=[]\n",
        "lr = 0.01\n",
        "w1=-10\n",
        "nw1=2\n",
        "w2 = 2\n",
        "nw2 =-1 \n",
        "\n",
        "\n",
        "while(abs(nw1-w1)>0.000001 and abs(nw2-w2)>0.000001):\n",
        "  w1=nw1\n",
        "  nw1= w1-(lr*diff_w1(w1,w2,x1,x2,y))\n",
        "  w2=nw2\n",
        "  nw2= w2-(lr*diff_w2(w1,w2,x1,x2,y))\n",
        "  overall.append(cost(x1,x2,y,w1,w2))\n",
        " \n",
        "plt.plot(overall)\n",
        "plt.show()\n",
        "print(nw1)\n",
        "print(nw2)"
      ]
    },
    {
      "cell_type": "markdown",
      "metadata": {
        "id": "cdAijAA2_eQo"
      },
      "source": [
        "# **Direct Method**"
      ]
    },
    {
      "cell_type": "code",
      "execution_count": null,
      "metadata": {
        "colab": {
          "base_uri": "https://localhost:8080/"
        },
        "id": "-wnnOVut9crU",
        "outputId": "c21556f9-105d-41a0-899c-04ff5b2ee914"
      },
      "outputs": [
        {
          "name": "stdout",
          "output_type": "stream",
          "text": [
            "(3, 1)\n",
            "[[1. ]\n",
            " [0.8]\n",
            " [1.6]]\n",
            "------\n",
            "X1: 1\n",
            "X2: 2\n",
            "Output:  [5.]\n"
          ]
        }
      ],
      "source": [
        "import numpy as np\n",
        "#H = x2*w2+x1*w1+w0*x0 where x0=1\n",
        "x=[[1,1,2],\n",
        "   [1,2,4],\n",
        "   [1,3,6],\n",
        "   [1,4,8],\n",
        "   [1,5,10],\n",
        "   [1,6,12],\n",
        "   [1,7,14],\n",
        "   [1,8,16],\n",
        "   [1,9,18],\n",
        "   [1,10,20]]\n",
        "y=[[5],\n",
        "   [9],\n",
        "   [13],\n",
        "   [17],\n",
        "   [21],\n",
        "   [25],\n",
        "   [29],\n",
        "   [33],\n",
        "   [37],\n",
        "   [41]]\n",
        "x = np.array(x)\n",
        "y = np.array(y)\n",
        "\n",
        "m = np.matmul(x.transpose(),x)\n",
        "m_in = np.linalg.pinv(m)\n",
        "m1 = np.matmul(x.transpose(),y) \n",
        "\n",
        "w = np.matmul(m_in,m1)\n",
        "print(w.shape)\n",
        "print(w)\n",
        "print(\"------\")\n",
        "x1 = int(input(\"X1: \"))\n",
        "x2 = int(input(\"X2: \"))\n",
        "x = np.array([1,x1,x2])\n",
        "print(\"Output: \",np.matmul(x,w))"
      ]
    },
    {
      "cell_type": "markdown",
      "metadata": {
        "id": "qKmf2Szh_n0P"
      },
      "source": [
        "# **Logistic Regretion**"
      ]
    },
    {
      "cell_type": "code",
      "execution_count": null,
      "metadata": {
        "colab": {
          "background_save": true,
          "base_uri": "https://localhost:8080/"
        },
        "id": "M8KtAnt8_tbR",
        "outputId": "12155ea5-95a9-4b93-bf95-48b10af4db94"
      },
      "outputs": [
        {
          "name": "stderr",
          "output_type": "stream",
          "text": [
            "/usr/local/lib/python3.7/dist-packages/ipykernel_launcher.py:13: RuntimeWarning: divide by zero encountered in log\n",
            "  del sys.path[0]\n",
            "/usr/local/lib/python3.7/dist-packages/ipykernel_launcher.py:13: RuntimeWarning: invalid value encountered in double_scalars\n",
            "  del sys.path[0]\n"
          ]
        }
      ],
      "source": [
        "import numpy as np\n",
        "import matplotlib.pyplot as plt\n",
        "def hyp(w,x):\n",
        "  c = 1/(1+ np.exp(-1*w*x))\n",
        "  if c>0.5:\n",
        "    return 1\n",
        "  return 0\n",
        "\n",
        "def cost(w,x,y):\n",
        "  cost=0\n",
        "  for i in range(len(x)):\n",
        "    y_hat = hyp(w,x[i])\n",
        "    cost += -1*(y[i]*np.log(y_hat)+(1-y[i])*np.log(1-y_hat))\n",
        "    return cost\n",
        "\n",
        "def diff(w,x):\n",
        "  diff=0\n",
        "  for i in range(len(x)):\n",
        "    y_hat = hyp(w,x[i])\n",
        "    diff += (y[i]-y_hat)*x[i]\n",
        "    return diff\n",
        "x=[1,2,3,4,5,6,7,8,9,10]\n",
        "y=[0,1,0,1,0,1,0,1,0,1]\n",
        "overall = []\n",
        "nw1=2\n",
        "w=-10\n",
        "lr=0.001\n",
        "while(abs(nw1-w)>0.001):\n",
        "  w1=nw1\n",
        "  nw1 = w1 - lr*diff(w,x)\n",
        "  overall.append(cost(w,x,y))\n",
        "\n",
        "print(nw1)\n",
        "plt.plot(overall)\n",
        "plt.show()"
      ]
    },
    {
      "cell_type": "code",
      "execution_count": null,
      "metadata": {
        "colab": {
          "base_uri": "https://localhost:8080/",
          "height": 373
        },
        "id": "S53MtwlNDNk-",
        "outputId": "a5d7254b-be32-4605-f657-91e86d6b96d5"
      },
      "outputs": [
        {
          "name": "stdout",
          "output_type": "stream",
          "text": [
            "5\n",
            "37.21\n",
            "37.21\n",
            "37.2\n",
            "41\n",
            "39\n",
            "[37.21, 37.21, 37.2, 41.0, 39.0]\n",
            "[37.2, 37.21, 37.21, 39.0, 41.0]\n"
          ]
        },
        {
          "ename": "IndexError",
          "evalue": "ignored",
          "output_type": "error",
          "traceback": [
            "\u001b[0;31m---------------------------------------------------------------------------\u001b[0m",
            "\u001b[0;31mIndexError\u001b[0m                                Traceback (most recent call last)",
            "\u001b[0;32m<ipython-input-3-5107972a9912>\u001b[0m in \u001b[0;36m<module>\u001b[0;34m()\u001b[0m\n\u001b[1;32m     10\u001b[0m \u001b[0mn\u001b[0m \u001b[0;34m=\u001b[0m \u001b[0mlen\u001b[0m\u001b[0;34m(\u001b[0m\u001b[0mmy_lst1\u001b[0m\u001b[0;34m)\u001b[0m\u001b[0;34m\u001b[0m\u001b[0;34m\u001b[0m\u001b[0m\n\u001b[1;32m     11\u001b[0m \u001b[0;32mfor\u001b[0m \u001b[0mi\u001b[0m \u001b[0;32min\u001b[0m \u001b[0mrange\u001b[0m\u001b[0;34m(\u001b[0m\u001b[0mn\u001b[0m\u001b[0;34m)\u001b[0m\u001b[0;34m:\u001b[0m\u001b[0;34m\u001b[0m\u001b[0;34m\u001b[0m\u001b[0m\n\u001b[0;32m---> 12\u001b[0;31m   \u001b[0;32mif\u001b[0m \u001b[0mmy_lst1\u001b[0m\u001b[0;34m[\u001b[0m\u001b[0;36m0\u001b[0m\u001b[0;34m]\u001b[0m\u001b[0;34m==\u001b[0m\u001b[0mmy_lst1\u001b[0m\u001b[0;34m[\u001b[0m\u001b[0mi\u001b[0m\u001b[0;34m]\u001b[0m\u001b[0;34m:\u001b[0m\u001b[0;34m\u001b[0m\u001b[0;34m\u001b[0m\u001b[0m\n\u001b[0m\u001b[1;32m     13\u001b[0m     \u001b[0;32mdel\u001b[0m \u001b[0mmy_lst1\u001b[0m\u001b[0;34m[\u001b[0m\u001b[0mi\u001b[0m\u001b[0;34m]\u001b[0m\u001b[0;34m\u001b[0m\u001b[0;34m\u001b[0m\u001b[0m\n\u001b[1;32m     14\u001b[0m \u001b[0;34m\u001b[0m\u001b[0m\n",
            "\u001b[0;31mIndexError\u001b[0m: list index out of range"
          ]
        }
      ],
      "source": [
        "my_lst=[]\n",
        "for _ in range(int(input())):\n",
        "  #name = input()\n",
        "  score = float(input())\n",
        "  my_lst.append(score)\n",
        "    \n",
        "print( my_lst )\n",
        "my_lst1 = sorted(my_lst,key=float)\n",
        "print(my_lst1)  \n",
        "n = len(my_lst1)\n",
        "for i in range(n):\n",
        "  if my_lst1[0]==my_lst1[i]:\n",
        "    del my_lst1[i]\n",
        "\n",
        "print(my_lst1)\n",
        "\n"
      ]
    },
    {
      "cell_type": "code",
      "execution_count": null,
      "metadata": {
        "id": "4qZH8xhhOI1l"
      },
      "outputs": [],
      "source": [
        ""
      ]
    },
    {
      "cell_type": "markdown",
      "source": [
        "# **SVM**"
      ],
      "metadata": {
        "id": "YuhkKTtjB_SO"
      }
    },
    {
      "cell_type": "code",
      "source": [
        "!pip install scikit-learn"
      ],
      "metadata": {
        "colab": {
          "base_uri": "https://localhost:8080/"
        },
        "id": "nSvEdyMOCCLh",
        "outputId": "27c25f8e-353c-4490-affe-862e70446120"
      },
      "execution_count": null,
      "outputs": [
        {
          "output_type": "stream",
          "name": "stdout",
          "text": [
            "Looking in indexes: https://pypi.org/simple, https://us-python.pkg.dev/colab-wheels/public/simple/\n",
            "Requirement already satisfied: scikit-learn in /usr/local/lib/python3.7/dist-packages (1.0.2)\n",
            "Requirement already satisfied: joblib>=0.11 in /usr/local/lib/python3.7/dist-packages (from scikit-learn) (1.1.0)\n",
            "Requirement already satisfied: scipy>=1.1.0 in /usr/local/lib/python3.7/dist-packages (from scikit-learn) (1.7.3)\n",
            "Requirement already satisfied: numpy>=1.14.6 in /usr/local/lib/python3.7/dist-packages (from scikit-learn) (1.21.6)\n",
            "Requirement already satisfied: threadpoolctl>=2.0.0 in /usr/local/lib/python3.7/dist-packages (from scikit-learn) (3.1.0)\n"
          ]
        }
      ]
    },
    {
      "cell_type": "code",
      "source": [
        "from sklearn import svm\n",
        "x = [[0,0],[1,1]]\n",
        "y = [0,1]\n",
        "clf = svm.SVC()\n",
        "clf.fit(x,y)\n",
        "print(clf.predict([[2.,4.]]))"
      ],
      "metadata": {
        "colab": {
          "base_uri": "https://localhost:8080/"
        },
        "id": "Kw2T1LsvCGBE",
        "outputId": "f223780f-b339-436b-a2fc-da1f5a492c1e"
      },
      "execution_count": null,
      "outputs": [
        {
          "output_type": "stream",
          "name": "stdout",
          "text": [
            "[1]\n"
          ]
        }
      ]
    },
    {
      "cell_type": "code",
      "source": [
        "from sklearn import svm\n",
        "x = [[0,0],[1,1],[2,2]]\n",
        "y = [0,1,2]\n",
        "clf = svm.SVC()\n",
        "clf.fit(x,y)\n",
        "print(clf.predict([[1.,1.]]))"
      ],
      "metadata": {
        "colab": {
          "base_uri": "https://localhost:8080/"
        },
        "id": "4oLrJUYMFmfP",
        "outputId": "628daa61-5f57-459c-9d4a-6158a6f524fe"
      },
      "execution_count": null,
      "outputs": [
        {
          "output_type": "stream",
          "name": "stdout",
          "text": [
            "[1]\n"
          ]
        }
      ]
    },
    {
      "cell_type": "code",
      "source": [
        ""
      ],
      "metadata": {
        "id": "0fwqmyLSFugc"
      },
      "execution_count": null,
      "outputs": []
    },
    {
      "cell_type": "markdown",
      "source": [
        "# **K-Means**"
      ],
      "metadata": {
        "id": "YmKXJZB4_JQO"
      }
    },
    {
      "cell_type": "code",
      "source": [
        "import numpy as np\n",
        "import matplotlib.pyplot as plt\n",
        "points = np.array([[5,3],[6,9],[3,9],[7,8],[6,4],[7,7],[1,2],[0,0],[5,5]])\n",
        "xs = points[:,0]\n",
        "ys = points[:,1]\n",
        "plt.scatter(x=xs,y=ys)\n",
        "plt.show()\n",
        "\n",
        "#taking centroids\n",
        "g1 = points[0]\n",
        "g2 = points[1]\n",
        "\n",
        "points_in_g1=[]\n",
        "points_in_g2=[]\n",
        "group=[]\n",
        "\n",
        "for p in points:\n",
        "  x1,y1=p[0],p[1]\n",
        "  eucledian_distance_g1=np.sqrt((g1[0]-x1)**2+(g1[1]-y1)**2)\n",
        "  eucledian_distance_g2=np.sqrt((g2[0]-x1)**2+(g2[1]-y1)**2)\n",
        "\n",
        "  if eucledian_distance_g1 < eucledian_distance_g2:\n",
        "    points_in_g1.append(p)\n",
        "    group.append('1')\n",
        "  else:\n",
        "    points_in_g2.append(p)\n",
        "    group.append('2')\n",
        "\n",
        "print(f'Points_in_g1:{points_in_g1}\\n\\n points_in_g2:{points_in_g2}\\n\\n group:{group}')\n",
        "g1_center=[np.array(points_in_g1)[:,0].mean(), np.array(points_in_g1)[:,1].mean()]\n",
        "g2_center=[np.array(points_in_g2)[:,0].mean(), np.array(points_in_g2)[:,1].mean()]\n",
        "print(g1_center,g2_center)"
      ],
      "metadata": {
        "colab": {
          "base_uri": "https://localhost:8080/",
          "height": 375
        },
        "id": "kHwm9EEJ_Nwl",
        "outputId": "75958b32-8fe2-4d93-e828-3bc8d8ef9eb0"
      },
      "execution_count": null,
      "outputs": [
        {
          "output_type": "display_data",
          "data": {
            "text/plain": [
              "<Figure size 432x288 with 1 Axes>"
            ],
            "image/png": "[encoded data removed]"
          },
          "metadata": {
            "needs_background": "light"
          }
        },
        {
          "output_type": "stream",
          "name": "stdout",
          "text": [
            "Points_in_g1:[array([5, 3]), array([6, 4]), array([1, 2]), array([0, 0]), array([5, 5])]\n",
            "\n",
            " points_in_g2:[array([6, 9]), array([3, 9]), array([7, 8]), array([7, 7])]\n",
            "\n",
            " group:['1', '2', '2', '2', '1', '2', '1', '1', '1']\n",
            "[3.4, 2.8] [5.75, 8.25]\n"
          ]
        }
      ]
    },
    {
      "cell_type": "code",
      "source": [
        ""
      ],
      "metadata": {
        "id": "QlBjNpc5AZWy"
      },
      "execution_count": null,
      "outputs": []
    }
  ],
  "metadata": {
    "colab": {
      "collapsed_sections": [
        "ymgkHqYzBI95",
        "gCiWjC5q-qp4",
        "cdAijAA2_eQo",
        "qKmf2Szh_n0P",
        "YuhkKTtjB_SO",
        "YmKXJZB4_JQO"
      ],
      "name": "BEC167_Day05.ipynb",
      "provenance": []
    },
    "kernelspec": {
      "display_name": "Python 3",
      "name": "python3"
    },
    "language_info": {
      "name": "python"
    }
  },
  "nbformat": 4,
  "nbformat_minor": 0
}