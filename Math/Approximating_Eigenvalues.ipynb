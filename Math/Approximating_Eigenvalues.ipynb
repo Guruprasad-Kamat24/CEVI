{
 "cells": [
  {
   "cell_type": "markdown",
   "metadata": {},
   "source": [
    "# **Linear Algebra** \n",
    "\n",
    "\n",
    "\n",
    "\n",
    "\n",
    "![cevi.png](data:image/png;base64,iVBORw0KGgoAAAANSUhEUgAAAZYAAACXCAYAAAA2032HAAAABHNCSVQICAgIfAhkiAAAIABJREFUeJztnXdcU1f/xz8nNwQDSHGgKIKiuFsnjmrVVutqBbFqraN1D9TaarV92j7V/qodaq199NFHrbt1r4paV91WHKhVXOBkuQAFZIUk9/z+iLnNJTc7gYDn/XrxIrn3nHNP1v2e852EUkrBcBp3797F0aNHcf78eaSnp4PneXh5eUGhUEChUAAAKKWglMLX1xeBgYFo0aIFGjduDD8/vxKePYPBYDgOYYLFMeLi4jBz5kw8ffoUwcHBUCgU4DgOcrlc8r/hn+E5uVwOjUaDtLQ01K1bF2+99RYqVKhQ0i+PwWAwbIYJFjtISEjABx98AH9/f/j6+poVJNYKFqlj6enpqFixIvr37w9PT8+SftkMBoNhFUywmIBSgBDD5xS//fYb5s2bh9q1a0Mmk5kUCM4SLIbHUlJSMGDAAPj7+5fcm8JgMBhWICvpCbgbsbGFOH5cKxIq69evR1hYGDZu3IigoCCUhCyuWbMmYmNj8csvvyAzM7PYr89gMBjWIi/pCbgLO3dq0K+fHGq1Qjh2/fp19OrVCyEhIahcuXIJzu4fatasiQsXLiA1NRWDBw+GTMbWBgwGw7144QXLvHkFmDq1HAID5VCrdcd4nkfDhg1RpUoVBAcHl+wETRAUFISYmBj4+fmhcePGJT0dBoPBEHghl7s8z6N/fwpCgKlTy6FXLyAlRXfu/v37CA0NRaVKlUp2klZAKUV2dja2bNlSIuo5BoPBkOKFEiy6nQjAcTJs3aozonz8MY9du3Tn58+fj169ermN2staatWqhZMnT6KgoKCkp8JgMBgvhiqMUgqlElCpxHJ06lQt5s7lAABt2rRBQUEB5PLS+ZZ4e3sjPj4e1atXZ55jDAajRCnTOxae5+HtDchkBCoVEZ17800qCJVatWohNze3JKboVAghePz4MRITE0t6KgwG4wWmzAoWX18KjpMhL8/4nIeHBgcP6gRNjRo1oFQqi3l2riU/Px/Jyckmz3fr1g01atRAUFAQcnJyinFmDAbjRaDMCRY/P10MyrNnxGSbwkKduqt27dplTqjoUalUePz4sdHx8ePH4+rVq6CUgud51K9fH4WFhSUwQwaDUVYpE4KF53kEBOi8vLKyOLNt1Wqd99Tbb79dHFMrUZ49e4a8Ilu2nTt3GrW7e/ducU2JwWC8AJR6wdKwYSE4ToZHj0zvUPTExKgglxNs3rwZcXFxZd5FVyaT4eHDh6JjUgK1Vq1axTQjBoPxIlBqBUuPHjqV140bCsuNASgUKrRtq0vkOGnSJFdOza3w8PDAzZs3hefLli1D27ZthecqlQpLliwpiakxGIwySqkTLDNmqEAIsH+/eZVXUVQqnVBRKpXgONv6lna8vb2RmpoqPN+2bRtSU1ORmpqK9PR0LF68GO+//76oT35+Pt577z0EBgaK/jp37oxr164V90tgMBiliFIjWC5f1mUb/uYb29PHz56tU3kNGzYMvr6+zp5aqYDjOGi1Wslz8fHxAIC2bdsK6WxCQ0Nx4sQJybZdu3ZFYGAgMjIyXDpnBoNROnH7tPkaDVCpEkV2tmUbijQ8KJVBo9GgatWqQlEtw5T01qS/1z82TJdfnGnzOY5DSEgIXn75ZeGVpaamIikpyepxNBoNAgMDTb5TkyZNwrZt22x6dydPnoypU6fa+dkwGIyyiFvvWD76SAsPDzggVIAjRzQAdCowQuwfp6Tp1auXSKgAQGBgIF599VWrxyhXrpzJuBWVSmWzUAF0aXB+/fVXm/sxGIyyi1sKlkeP1CAEWLDAMVsIIRSvv65ARkYGfHx8nDS74qdx48ZmhWKLFi2sHstUPrHatWvbPC89//rXv1gsDIPBEHA7wdKjhxYBAR5OGWv+fN3N2F2SShJCRH/WUrduXbPnOY6zui6LXC43Sl+zbt06q+diipCQEIfHYDAYZQO3ybiYlATUrAkAzvPY+ugjIDs7G+XLl3famLbw+PFjHDx4EI8ePTLZJjg4GEOGDEFQUJDkeWtNYBqNBgqFda7Xan3hmed8/vnnVvWzBM/zrPAYg8FwD8ESGclj507n3pBattQC4BAQEFDsGYt37tyJFH2BFwskJSXhu+++AwA0adIEkydPtuuahYWFVgsWuVwOrVYruF2b8hazlevXr7OiYwwGo2RVYQUFOjuIs4UKAPz1lwaU0mKNrj9z5gyWLFlitVApyuXLlzF8+HD8/vvvwjFrVWa25jx79uwZAN1Ox1kwIz6DwQBKULDs3KmrkQK4wlOLwtPTE/v37y82T7BVq1YhLi7OKWPt2LEDgwcPFp4fOXLEbPuCggKbBainpycopU4NFk1ISDB57tKlS6hevboQaGkoPBkMRtmiROJY6tVT4+ZN5xjopWjbliImRmcgVyqVRjEkzoxjkcvlTjF+m2Lr1q3gOA5vvfWWpKorNzcX165dsykexvA/4LxcYQ8ePAClFA8ePEBAQAAAnY2oRo0aJvukpKSUajdwBoNhTInsWBISPKBSFYLjeJeMv3ix7obm4eE64aXHlUIFAPr16wdCCPbv3499+/ZBq9WisLAQWq0WsbGxuHz5st1jq9Vqp75HV69eRcuWLVGtWjUQQrB+/XqEhoaa7VOjRo0ynwyUwXjRKDbBQigBz+sECW3SBAqFAhqNDHl5Kqdfq3lzgkuXLrl8Jbxp0yaXjq8nMjISgE5YHjp0CCdPnsSJEyccrnGv37E4631q0KABYmNjQSnFunXrMHjwYKvmuGzZMqdcn8FguAcuFyxX71wFoQQg/7i50rg4gBBoO3aEUukJSoGEBOeuWr/++munjleUAwcOuHT8onz++ecuEZSUUixdutQpYxnOb9CgQRg5cqRV/f7v//7PKddnMBjugUv9cCP5SOys/U9hKbWnGp7w1N2AKAV34gRACDSvvYa6J06AUuD4cQ06dbJ/WnXq6P7v3LnTavdbWyGECF5VruTEiRNo3769kUChlEKlUiE2Ntbha1BKnVL0TKoU8oMHD6zqy2wsDEbZwmU7Fj/qh50ycbVCNXQ7FlIkiE5+8iRACPhOndCxoxyUAps327eDiYzMt2/CNrBr1y6Xjr9ixQpQSvHaa69J3nQJIShXrhzat28PLy8vh66lt28kJibaPcbKlSslAyPr169v0xwYDEbZwOmCRaPRgPAEWSTL6JxesMCEi6vs+HGdgOnQAf37E1AKrF1rOmpdioEDlS6NACeEODX2oyiJiYkYMWKE1XNp2rQpGjRo4PB15XK5zY4AGo0GX375Jbp37y55/ocffrBqnD///NOm6zIYDPfGqXffm9qb8JB7mBw1p+B5Zl0LN33Z8x2MumtXvP9+VVAKfPyxdavaFi0osrKyXKZeuXjxokvGBYBz584hODjY5n7ly5e3OUBSikqVKiEpKQkVK1a02JZSipkzZ2LChAkmE1AqFAp06tTJ4liNGjWyea4MBsN9cZpgWaJdgnpcPbNtshXZugdW2j48/vwTIASFb76J+fN1O5jBg80LGEKI2UA9R7E3qt4SLVu2RFhYmN39GzZs6BRhynEc4uLicPv2bQwYMMAozX5oaCiOHz+O+/fvY8yYMfD19YWnp+niaxs2bDBpj6KU4v79+9i3bx8aNmyIbt26OTx/BoNR8jhFsPTW9kYUF2WxnaAeK1fOpvEVhw7pVGQ9euC333QCpksX0zEwSUlJNo3vDsTExDg8hrMCHQFd7ZaffvoJubm5Qhnj1NRUHDt2DHX0HhIAsrKywHEcqlatajQGIQR169ZFdnY2bt26hbFjxyI4OBj9+vXD2bNncf/+fWzYsAEjRoxAdnY2rl69iurVqzvtNTAYjJLBYa+wUITiNnfbqrZXyVV0QiebBYse2f79ACGg4eH4889oAEDbtsCZM+J21nojuRPOCFR0RRZnaxJUajQaEELQvHlzPH78GIAuF1lAQICwe1QqlZg+fTqmT58u6lvUQYF5iDEYpR+Hdiy+1Be3YZ1QAYBruKZ74KA9gOzapdvBREbi9GlArdYgNPQfFdnTp08dGt/kdV1005s5c6bTxnLWHNPS0vDBBx/Ay8sLrVu3xvr16822DwkJEYQKoBNyo0aNEp7zPI8///wTI0aMgK+vLwghqFixIqZPny5ytGjfvr1T5s9gMEoOuwWLjJfhGbEtluMinhu+7dyxGM1h506AEMjCw3HzJkF+vi7K21WpXFQq52cJAIC2bds6bSxrDO+W6NWrF5o1a4ZDhw7Bz88PqampmDZtGgIDA4XsCUWRem9WrFghFDULCwvDhQsXsHDhQmRnZ4NSiidPnmDlypVITk7GypUrERUVxVyPGYwygM2qMJ7nwRHOLpGUDF0QnVapdGI5L0C2bx/4unVR7uZNAECFChWcOPo/uCrg0pnzdXTHMmzYMLOeb0FBQUhNTRUdu/n8fZeai7WConv37ujevTsqV66M+Ph4q2NgGAyG+2GTeFCpVOBknN2Z7nOg8zBSe3vbN4AEWgD83buQ3bwJPI+TqakrRVlqMFQhOUpeXp5D/Q8ePGixTc+ePZGdnY3evXuDEIJ69aS9AfUZjm0hPT0dDRo0QHR0NDIyMmzuz2AwSh6rBUsWslDO0zEVVi6vq7Uu9/d3aBw9dMoUcJQCwcHQaqsB8AAKgcDAQKeMX1w4M0Nyfr79mQe2bt1qVbsLFy7gpZdewsmTJ3H69GlQSnHz5k3R7sTT0xMXLlzAhg0bbJpDWFgYqlevjqioKDRp0sQhF2wGg1EyWCVYnuAJ/ODn8MUKtbpAOlmlSg6No6lWDaAUZN48ULoOMhkHjgvRnTwMkytod8VZgkWj0ThkozhT1L3OBHK5HJRSZGRkoE2bNgAALy8vHDlyRHBLvnPnDg4cOIBBgwbh22+/Bc/zmDFjhlDo69NPPzUaNyYmxsij78GDB9i3b5/dr4nBYBQ/FgVLJjJRCY4JAoHnNnWZnTsWCiD/0SPI798HkA+NhoCQIQCA/PxD4H/hkbc/D0ql0mVGYGdWXDTkypUrDo/x6JFt6W8AcZ6u1q1bW9XHlB2nd+/eouddu3ZFfHw8vvrqKwQFBWH58uXCuXXr1iEwMBB//PGHcExK2ADA4sWLrZoXg8FwD8wKlgyagQpwgSHcxh0LBYDISBBKoaxSBWr1GABeeF5OBFotB6VSCX4MD6+DuqSMpryXHCU8PNwl477yyisO9ddqtQ7bJPr3729Vu8DAQMlo+g8++MDoGM/zqFatmsmxRo8ejevXr6NKlSo4efKkZJuGDRtaNS8Gg+EemBQsT+lTVCaVXXPVytaPS5VKEEqBHTtA6TNQSuDh8YuoDSEnUJhfCDnkwFX9MdfEnLgyAWWHDh3s6kcptbuSZNFknV27drXYZ8KECXj55Zfh5eUluBMHBQVBLpcjPT1dlDusS5cuFsd788038fjxY8ldpkajcXk2aQaD4VwkBUsOclCROB4PYZIqVSw2oQDup6aC5OWBUgqtVglCfCElL2SyV6GIELsCz5o1y0mTNebVV191ybgnT560eWxKKc6fP2+36q+oAF69ejXatGljcrzU1FR88MEHSExMRN7zz4ZSit69e2PKlCmYPXs2atSoAY7jbBLuemGUmpoK7+deg0qlEo8ePcL169dRzkmxTwwGw/UYCZbCwkKUh/NTgxhyxZKNJTwchFJUr14dWVmJAGTgOFMlbufo/hXJvG4Y9e1spPJiOYvTp09DJpOZzBhsCM/zOHPmjEP2JKmb/6JFi/DgwQMhcDM/Px8RERFG8SuGbNiwAXK5HHPnzsXjx4+h1WqNEliaQ19dFAASEhKQmpqKW7duAdC9TpVKBR8fHwQGBqJx48ZWj8tgMIofQovclYi9QSpWQkHx8OFDBEjo3XkAssJC4HnkvFrtBQ8PS+6zFDgAwKAkiOYLDeTfyiGXy6FQKCCXy8FxnPBn+Fwulxs9l/qvfyyTyYQ+1rrn2gvHcfj000/x7bffCgLg2bNnOH78OHx8fEzO2dpjlFLJQmEVKlTAK6+8guPHjwMARowYge3btyMzM9PkXO/cuYPatWsbHbfW9Ts3NxeVK1dGUFAQatasidDQUNStWxcNGjRAw4YNceLECZENp3Xr1tixY4dVYzMYjOJFFHmvr03vaipJGO/p2bOQtWqle0zXgJBhsJSZhdImIAQofLsQCvyjCpP/LAe+1V3HVSWEKaVo27YtTp8+7ZLxAZ1B/vvvv0e5cuXQvHlzQSA4y+tNKt09z/PIzMzEkSNHhGPff/89Vq1aZXKchIQEky7elFKrVGLmhBZgnLG6NCYaZTBeFARVWHEJFUCcy4t2766LSWnV6nkchhKEDLNqHEJ0XkQKTZFUK8+Dz015GTmLmjVr4uWXX3bpNYYMGYImTZo4fVxKqWSVzVq1agk2Ej161d+dO3ckx3rttddMXufvv/+2OI9Hjx6JVGFSDB06VPT86NGjZtszGIySQ7izaKkWz/AMt3Ebx7TH8C/6L7RFW3D5zo3b0HtVaQFoMjNBnge/abX9IJd7gBBTthQxupyH5aEZZsJLazdQt25dq2wVjtCkSRN07NjRJWN/8cUXRrEhzkKtVkvuJJKTk3H16lWj4zVr1kRERITkWEVT4Rvyxhtv4P79+ybPHzlyBMHBwVAoFPj888+RkpKC7t27G+0EZTIZUlJScObMGSQnJzNjPoPhxgg2lr2Uos7Nmxaj1imlUBM1kpCEOwV3cEpxCgdkBxCjjYE1mSXztHlQcoZp8x8ACMTzaBWr4flLkMmagBIqbReqAOAJ0LdvXxw8eNDpNpai53ied2pqlhUrVsDb29vknKTmYYuNxdvb20iwtG7dGn///bekMD5z5gzatm0rqYIrLCyUTNBZv359JCQkQKVSwcPDAxs2bMB3330HDw8PTJ06FYMHDxbaXr58GU2bNhUV+lq1ahWrKslglEKMjPf/x/P4uoiKxI9S1KcULxcW4o1y5fA2gJes0J3zPI+7sru4UXADlxWXcUh2CNuxHb7wfd6iKQD74i8ACiQDMFcinurm8NJLL0neYJ0pWPSP4+LirE6NIsV7772Hnj17WpyTI4JFq9VK2rkIIUhKSkJQUJDk3KSyFQ8cOFAyH1hQUBBSUlJQWFhodRmDqKgoREdHC8+bNm0qisxnMBilAyPBouc0pehAKTQSengpOI0GNeVyhObno55SiQgATXkeVcz0f/r0KSpUuAaN5irk8j0ATgCwXKSL53+ATPYZEALgnpl2HXnIjskQEhKCzMzMYhEs+v/Jycn4448/rAqoVCgUGDduHF555RWTc3SmYPHx8YFcLq6Y0LNnT+zbt8+sUwAhBMOHD8fKlSuFY/Xq1ROqROoJDg5GcnKyTUIFABo1aoSsrCzh+caNG+0OGmUwGCWHScGiR61Wo5dcjgNOimT3AVALQIu8PLTw8sKrABrl5MDHx8eorU7F8gDAcSQkxKBevRPQaq+A455P2ZopUZ1dp3LlyiZvtq4QLIb/NRoN0tLS8OTJE+Tl5eGll16Cv78/QkJC4OXlZbObsCOCRa1WS6azJ4QgNjYWLVu2NPlWLlmyBJ999pnos6KUol69eti7dy+USiUCAgLw6NEjaLVaSecAKaZMmYL58+fjxo0b8PPzw5w5czBixAgWr8JglFIsChZDNgAYpNUCnGsSMQpotVByHFoAaKbRoC3HoQUhaGTY5lsA/7ZiqBFacCs4dOrUCVevXi0RwVK0rS1CxJmCheM4+Pn5Ge1WoqKisGTJErO7lWnTplksT5yZmYm8vDwjoZKVlYVly5YhJCQE/fr1E47r7TaLFy9GVFSU5Q+TwWCUCmwSLIa053mcsnJF6kxqq1S47ekJKqcgWit3UVS3si5fvjy8vb1fWMFSWFgoaT8hhODQoUPo3Lmz5Ns3duxY7N6926q3ulevXli6dKnwfOrUqUY2mNu3b0OpVKJr1644cOCAdZ8hg8EoNdgtGf6SyUABbALg6aJMwlJc8vCARqOxXqgAoA11jgZnzpxxWXJKd0er1UoKlW3btgGASaFy+fJlq4UKAOzevVtwV9ZoNJKG/YCAAFBKmVBhMMooDm853gVQIJNBVViIrrrgEpfiI5OBtrJtk0VuEOTn56Nx48Y2GZPLEuXLS+d/69evHxYtWmSyX8+ePW2+lt5FODY2VvK8txNLUzMYDPfDaboshUKBA56eoAAuAqjkgkJbawp0wZMef9suHJReutiZ5ORkm5IjlgVyc3MlBYs+cHH8+PFOv+Zbb71lMlOzUqmUPM5gMMoGLjGSNAOQTggogOFaLeAkIfO+pyfSL6fbP4AuWS+ysrJcWlfFnXj27Bnq1q0reS4wMFCyOJceUylcrOH8+fM4d+4cKlY0Lr9w7do1u8dlMBjuj8ut7ys5DpQQFKrVCHbAFqN4noKkUhsHyiSfAXBb93Dnzp32j1NKUKlUaNSokeQ5fbzImjVrTPY3jCmxlf379yMsLAxxcXGYNGkSfH19Ub16ddy7d08ySp/BYJQdis2ty8PDA4nPDf7LAMht3MXkPreNkAIHje+hgLZQi1atWmHChAmOjeXGaDQahIaGmjzv5+cnSp8iRdOmTe2+foMGDYTHn332Ga5fv45z5869sDYuBuNFovj9hQGMBqB+riqTXk8XgVLIAdBI56jUOE9dLZKpU6eiT58+TklB705otVrUrl1bFK+yY8cOBAYGCn/67ADmsDbAUQqWJJLBeHEpEcFiyFXo0k8mJSebnEwvvYuwE7VXRKbLezVnzhyMHTvWeQOXMCqVCvXr1xfUTZRSBAYGYuLEiaJ2VatWRVBQEAoKjLNJU0oxe/ZsEELw9KnlFDtFMZUFmcFgvBiUuGDRExQUBC106fS7FLHF7MLzNO9OLhhDZLrxJk+ejJUrV5b6nUtGRgaaNWsm2qnUqFHDbJ86deoIj48ePQqO4yCTydClSxfwPI/c3Fyb57F48WKb+zAYjLKD2wgWPTIAfz63xVzPzYW+xqG8nNxML/uhRCdMWrdujZiYGDx+/Ngl13E1Dx48wOuvvy5SXz169MiqvkqlEoQQ3Llz53mxNYqwsDAQQkAIwb1796yex717917YIFQGg6HD7QSLIQ28vaFX1JBOBNTGmi3WQPC8cuZVXeBeUlKSy8oZuwqlUom3337b6IY+e/Zsq/pXqFABlFKMGDFCUih4eHggOTnZbGCjp6cnkpOTmXGewWC4t2ARcfh5+WQKIBV4NvGZcwXNywC66vJmXb9+Hd99951D7rbFQVJSElq0aGGyPHJKSopV41izw5DJZEhISEBSUhL27NmDyMhIREZGYvfu3UhMTMSdO3ccMvYzGIyyg91JKN2KTCB7azZ8JvlAlu/YzY16UNACXT14nufRtWtXEELcKgmlRqNBrVq1TMao6Pn5558xd+5ci69ZJpNZ9BBjMBgMaykbgkUC7VktuLkcsNW+/nxPHrI/dEKqoKAArVq1Qs2aNUEIKTHBQimFQqFAjx49rHoNGo0GNWvWtNju4MGDFoUUg8FgWEuZ1V1wrTlgC3SqMwpoNVpoD2mBvoCGWE7nItsr0xn2N+tiMuLi4rB582YQQpCXl+fy+RuSlpYGX19fREREWC1UAEAul2PkyJFm2xBCmFBhMBhOpczuWKzmGpB/KB/KpUpdUI0UHIB4AP945mLv3r2YNWsWAgICRDVenLVjycnJAcdxiIyMRNWqVR16ibNmzcL//vc/o+MVK1ZEXFycQ2MzGAxGUZhgMUUWgCNA2l9p8D/kD3qRgigItIlacAHiCppnz57FihUrkJiYCH9/f/j5+Vms5Gh4zMPDQ6i+2LRpU3Tp0kUyeaMj8DyPDRs24Pz586hbty5GjhzJcnYxGAyXwASLC+B5HtevX0d8fDzu3buHpKQkaDQaaLVaeHl5wdfXF7Vq1UKdOnVQp04dVKtWraSnzGAwGE6DCRYGg8FgOBU5YFx3gxCCkJAQUEpx584dIc6B53nJWIWKFSvCz89PeE4pxd27d81euHbt2la108/FFlQqFVJTUwHosvg6W63EYDAYDDPQ5+C5/1RgYCAtCgC6bNky4fmkSZOE9ubQt/Hy8qIpKSn01KlTtEOHDkI/jUZDAdCFCxfSlJQUof3GjRvprVu3aLVq1WiVKlXMXsMUzZo1owDov//9b7v6MxgMBsM+jBJwGer7KdUFCqrValFiw27dumHBggVWCy+ZTCakaz9+/DgGDx4snDt58iTat28val+pUiXUqVMH9+/ft9sjqkqVKnb1YzAYDIZjmIxjKSgogI+PDyilIqHiCPoa6+vWrQOgU3MVFSpF0Quwx48fIzY2VjID8a1bt3DhwgVotVrJMdRqNc6dO1fqsxczGAxGaUBSsMTFxcHX19eulOnmKJrTyprcUgMGDIBSqUR4eDjCwsIgk8mgUqmE84QQ5OTkYO7cuZDL5Ub1ReLi4tCyZUu0bt2a5bJiMBiMYsDoTnv+/Hk0adIEarUaPXv2dMpFcnJy4OHhYVfRqPj4eBQUFCAmJkY49tJLLwEAWrVqBQBo1qwZPvzwQwAwCgSsX78+Ll++LDzPz8+3eQ4MBoPBsB4jwdKyZUuhUNO+fftw48YNhy/i4+MDtVqNSpUq2dxXX3ed4zjBO02/Y4mNjRXatWvXDpRSTJ48WdS/aBCgRmM5nQuDwWAw7EdSNxQVFSWojRo2bGjTzdhcqvlr164Jj3v16mXVeHoholarQSkV/gxhthMGg8FwH0waHQyFiS3Fm8x5Yxmes7Yq4TvvvAMAoliUhQsXAtAlhwSAjz76yOr5MRgMBsO1GAmW7OxsADqjeGFhoXCc4/7Jj2Vos9DD8zzCwsJEffTk5OQIj9VqNTiOw5gxY0xOynD8LVu2AACePXsGX19fNGrUSNjt6MsIL1y4EDVq1EBwcLCRDUX/evSw3Q2DwWC4FkIppbdu3TI6ERoaCqnj1lCnTh3cvn3bbJvAwEAolUpLtMUVAAAgAElEQVQAOoO6PlK+6BwAnTCYMmUK4uPjsXHjRvj6+gpt8vPzMWLECFSqVAk//fQTFAoFCgoKRNUTAwIC8PDhQ6NxGQwGg+F8WK4wBoPBYDgVFtjBYDAYDKciBwCtVgue50t6LlZhiyOBu2IqmWdJ4o5zYjAYpRM5oKuGGB4ebvcgXl5e8Pf3R2JiotMmZgq95i4vLw8TJkxw+fUchVKK1atXAwDmzZsHQggUCgUmTpxo0zgqlQqLFi2yqc+4cePg5eVlVdvVq1cjMzMTADBmzBj4+PgA0LmI61PxuDOdOnUqE4sOBqMsYHMSsAEDBmDOnDkIDg422y4rKwuffPIJVqxYITqekpKCcuXKISAgwKFgRZ7nS11Z3YSEBAD/ZA6wBa1Wi/j4eJv62PL+ZmdnC+Mb9svIyDAqq+COdOzY0ab2KpUKa9asgVqtRvPmzdGuXTusWLECI0eOdNEMXcPUqVNx+/ZtVKlSBUuXLgWgy/P35MkTkzvQSpUquUQIr127FtHR0di6dSsopfjxxx+RkZGBH374wenXsoXvvvsO8fHxWLNmTYnO40XCasGyY8cOREZGWj3wSy+9hOXLl2P58uVYsmQJoqKiAOi8wQDd6v1FjT/JysrC2LFjoVar8cknn6Bx48aS7aKiohxSUU6bNk14rNVqsXz5ctH5lJQUzJgxw2lJRksLH374IapVq4YvvvhCODZt2jTEx8c7LFhyc3Ph7e3t6BStok+fPtixYwcAXcCx/trlypVD9erVERERgfnz56NOnTpCn+joaLz55psuESyG3pqEEJw6dcrkd7s4GT58OK5cuVLS03ihsKhUHzFiBCilkkKF53mcPHkSn3/+OaKiojBx4kQcOXLEaKU8btw4UEqFFRUATJo0yQnTL914eHhgwYIFyMjIkDzvTLtX0dUrz/P45ptvXjihMn78eOTk5IiECgDMnTtXFKtlL4YlIVyNYTbv3bt3Gwk0KYfPiIgIl82nqBBxF4fTatWqoWvXriU9jRcKs4IlMzPTSJUFAOvXrwchBBzHoUOHDvjhhx+wZMkSLFq0CJ07d4aHhwcIIfjuu+9E/cwFRb7IfPnll5LHi2ZqdiYjR44Ucq+9KGi1WqSkpGDJkiWS59euXSt6fvz4cezevRtqtVo49uzZM2Gs6Oho0bnx48dLLgZiY2Oxa9cu0bHCwkKkpaUhPT0dZ86cMTnn7OxsREdH49GjR8IxnudNloiwxN27d622uwHA4cOH8ccffxgdv3z5MqKjo21e/Pz1119G74VhFvXo6GjJfidPnsSuXbuMrnfv3j1ER0eLgrCl2Llzp/BYX7U2NzcXu3btchsBWJaQFCwymQyUUiNbQG5uLgghVq/KvvzySxBCTK7IW7dubeN0yyaUUskbxahRo5x2jR49eoiuVzQ554vApk2bAACenp6S58uXLy88njRpEjp27Ij27dujb9++UKlUWLhwIQYPHowbN25g6dKluHDhAvr27Sv00SdvNWTQoEEICwtDeHg4IiIikJqairlz56Jfv36IjY3F0qVLMWvWLMn5DB8+HPn5+YiIiMCaNWswcOBAANaVmzCF3s4H6Bw2DHcw7777rqjt4MGD0blzZ3Tt2hURERGCJuLdd99FkyZN0L17d0RGRlosL274etq3b48ePXogIiICmZmZ+PnnnzFw4EDcuHEDP/74I27evGm0qwoPD8drr72G8PBwREZGCsJ96NChqFWrFiIiIjBo0CAcOXLE6JrLly9HREQEli1bBgBYtGgRPvroI/z+++/YsWMH9u3bZ5OKn2Edkt9QqZvcqVOnBE8hW6lcubLkSsSZRj1KKQoKChz6U6lUNv85C/1Nz5AOHTo4ZTVFKRVyrgHAoUOHHB6zNHLu3Dmr2o0ZMwZz5swBAFSoUAEA8M033wilGRo0aIDx48fj66+/NjvO7NmzRepfSin+9a9/Ydq0acL39csvvzRawQO6NEjp6elCBdVPP/0Uubm5wu/I2p3Chg0b8OOPP+LHH3/ExIkTRbvUYcOGQS6XY8KECRg+fDg2b94snIuIiBB2cB4eHggLCwOlFGvXrhU0EZ6enggMDBTeF3NMmDBB0H7oNRpTp07Fxx9/DECXDWPq1Kn45JNPRP369OmD9evXC89bt24NSimuX7+O999/XzTfn376yei6o0aNQocOHUTzAIDIyEgMGTIEixYtYjsWF2CkYJd6k+/cuWOx0qMlevfujQsXLqB58+bCsTfeeMOhMQ3x9vbG+fPnnTaetTRq1Mgm1YIpDh8+jEGDBhkd9/T0lMy/Zgv6ZJ16Nm7c6BR7gjnsXVW7Mp4qLCzMYqohAHj48KHoPTOlnrFETEyMyK28qAAxNKoXZdKkSUY2k8DAQGzatMkmO8nAgQNF1ymq1tq+fbuwIyqK4Wc4ffp0ADpVVrdu3YTjResfmSI1NVU0nqFqCoBJW59GoxG9D//+978B6HZbYWFhwvFRo0Y5dYfPcAzRp3n69GmjBpRSsz8AW2jRogXy8vKEHGFlgb59+2Lv3r0Oj8NxHBITE1GzZk3R8enTpws/JnvR3xQAnY3A1UKFUmr3j1yvsnAFnTp1wqZNm6BWqy16RT179kykGrMHnueRkJAgWkxRSq2ybfE8j7y8PNExe9zUi/LWW2+JnhcWFiIsLAxDhw41EqAajcbofeJ5HrGxsaKyF9a+pvj4eNSvX9/mOT958gSVK1c2Oh4XF4d27drZPB7D9QhLiGrVqqFNmzbGDZwcjV10dd+vXz+njJuTk4MGDRqgVq1aqFKlikm7DqUUPM+L/rRardGftdvjmTNnOm0rLaVa8ff3t9tQC+huDoY/ys8++8zusUo7NWrUgEKhwJAhQyTPr1q1CgDg5+dntHv85ZdfbL7eK6+8ghkzZoh2YZ9++qlVfb/55hsAYg1CWloaxo0bZ/M8imLoVDNq1ChMnz4dXl5eItUSpRT9+/cXnqvVaty/fx9NmzbFsmXLRN/J4cOHm7yWfv5Vq1YVVIB6fv75Z4tzlcvlGDFihOjYsWPH0Lx5c+zZs0e0m3+Rv9vuhrBjkYqutje7sSVu3LiBBg0aANAZ07Zu3erwmDKZDD4+PoIdqFu3bpKqsebNm9vsYqvVakEIwZEjRyRXjdnZ2U5ZTSoUCsnV31tvvYX9+/fbNabhYsERbyJbIIQIOw9KKWrVqoXu3btLtt2+fTvS0tKKzUNt69at6Nu3LyIiIrBhwwZ4e3tDpVJhypQp+O9//wtA5x2mN7YTQsDzvEiNlZycjKCgIOEmqU+Ho39+9+5dqFQqfPvtt4iIiBAZh/W7AkIIbt68iSZNmkjOMzg4GEqlEp988gl++uknqNVqZGVlCRVVrVnMEELw+++/C3YFQgiOHTsm1DYaNmyYYEfZuHEjIiIicPr0abRt2xZbtmzBu+++i4iICOF7uW3bNkycOBEHDhxAnz59jF7TtWvXRDd6Qohg2F+6dCnCw8PRu3dvYf6G72lGRoaowmxmZib8/PywY8cO4bNQKpUoKCgQ1Gg//fSTsDCllAoLg6I8fPjQ6PuVn58PpVIpCH1rd10M6yCUUhoXF4dXXnnF+KQL32jDH4Yt19H3y8nJweuvv2627bFjx4z01M2aNXModuPSpUsoLCwUzXnv3r346quvTPbRl1AeO3asxfFfffVVDBs2THRMq9Vi/Pjxds3X0Hj8xx9/GOm2pZg9ezb8/PwAACdOnMD169fturYho0ePNvqc79+/j927dzs8NqC7Sdrq6Xbs2DEUFBSYFHonTpwAIQSvvfaa1WOeP38ederUEd4/QGdrKSgosMumeO3aNSQlJaFly5bw9/e3ub+j7N+/HzVq1DCKUTlz5gxycnLQpUsXm8aLiYmBRqMRGdSt4dChQ/D39zcSxPHx8UhMTBTZfRgljxwAXn75ZaMTepc+V3Hz5k3UrVsXAFC9enWX5KNyRX37pk2bolWrVjh9+rQgoHr27Ikvv/zSKWrDkydPGgkWjuOgUqlMusmaoqgtZfv27S63r5ji3r17CAkJER3bunWrkWNBcdKpUyez5229+QFAy5YtjY69+uqrNo+jp1GjRmjUqJHd/R3FlNCVUptbg73vhSkBVr9+fbvsNgzXIgOkdwyGHheuoF69egB0NzvD4K/SQtEflr2u2EXhOA5JSUlGx2fOnGnzWJMnTxYep6enl5hQAWBkiAacb79jMBjugcyUzt0wkMpVEELQt2/fYtH7OxtCiMgoLhUcZy9z5841OhYUFGTTGJRSYUcIoMTzskm5ETOdNoNRNpGxH7f91KpVC0+ePAGgUyc6KwbDVOClPljOGvTOEXqctaNiMBgMS8ik1BGuzFFVGuB5Hhs3bsTGjRuFCGxTGBoTnWUvIIQINVwMsSWexTDJ5++//+6MaTEYDIZVyAyT6OlxZqqS0kpoaChCQ0NRrVo1s+2qVq2K+vXrIywszOEIeUNOnDhhdEyhUFh1jfz8fJHnm1TKEAaDwXAVMqkIZClh8yJhi0qLEOJwhLYUcrlc0lNOn1vJHIaVNVNTU1+41PglAaW0WCqoupJr166V9BSKjcLCQrNOQ+aK6tlacO9FRPKOU5LeQ+6Aq12trWXWrFlGTgGmAur08Dwv8lgr6ep97sTdu3eFmCIpQkNDRelXDNm0aZOkF5s+Ol1/rkaNGkhOTnbCbIuHhIQEdOrUCQ8fPkTlypWRlpZmVb9169aZdb4IDQ11y+zlu3btQr9+/VBYWIhPP/0Us2fPFp2PjIwUYr2kglAVCoWw8GbJK03DBIsE+vTkJY1UHA4hBBqNxuQuRF+hE9AJGWeq50o7ISEh8PLyQnBwsOh94TgOqampqFKlism+/fr1w3/+8x8h+y4hBFevXjVql5KS4vyJuwh/f3/069cPDx8+tLnv4MGDoVKp0LhxY1Fiz+XLl7tteeeWLVuievXqwmdvKBgPHz6MLVu2WAwgftG1OdYik1L7vMgeRDzPm6yPUdwQQkSR83rMJWo0TDu+bt06l8yrNFO1alUjG2JCQgKqVq1qdgXOcRymTJkiJGXkeR4NGzYUzhcWFuLjjz92aXZmZ5OWlmZ1dmIpPD09RWmfFAqF2woVQJcVwdDeaPh5d+7cGf/73/9w/Phxs2PwPI+oqKgX3sHJEpJeYWU5cE2j0YiSTWo0GuTk5MDHxwdz5szBhQsXSnqKIs6ePWt0jOM4yRtYYWGhyN5z9OhRV06tVGModPX5q6xBrVZLeud5eHhg/vz5pTI2xxl57gCI0tg4E3M7SUeQus9ZuhYhBIsXL7Y5C8aLhlyr1b5Qqq8rV66U9BRsQi6X49GjR0YxLK+//rrR6sowG21iYiIz2pth0KBBQiVUa78TejWXPVkQ3BkvLy9kZWU5PI6lUgT2Yq3dxxmUZIqhsoTkjgWAxfgNRvFhmOZcz+DBg42Mh4a1NqT6MMQY5sGyxuDetWtXi84TDOfiSu1Jadxdlhbkpt7cjz/+2OraEaWJn3/+2egLJZfL0ahRI3To0MEtV/n5+fkW27hqtViW2b17t/C+BQcHW/TyuXHjhlnd+r1793Djxg306NFD8vy5c+dw8eJFNGnSBG3btgWgS8TprJpEerRaLf7880/cuXMH1atXx5tvvmmU5bu4uXjxIjw8PISEt2q1Gtu2bUP58uXx9ttvG7WnlNosVA4fPozLly8jJCTEKvWmvUIrPT0dS5cuxZdffmmyjVarxcGDB3Hv3j00btzYpoSmMTExOHfuHAICAtCnTx+zv+3//Oc/onRN58+fx4ULF9CzZ0/UqFHD4rVycnKwd+9e5ObmIiwsTDIhcVHS0tIQHR2NgoICdOzYUTIzvgyQjtsoqzeq1atX49dffxX9rVq1CtOmTUPbtm2Nam67A6aM+N9//73w2LBImD1FqV5E5HK5qJqpOQE+ffp0cBxnpFvneR7/+c9/QAhBSEiIpGNFamoqCCFYsGABGjdujBUrVoAQAkKIYOs5c+YMJk+eLBwvuvg5cOAA3n77bZPn9XMhhEAul+PcuXOoWLEiRowYAR8fH6GuTHGi1Wrx4YcfghCCFi1aCK7er776KhQKBQYOHIhevXqBECJy8c/MzDS66Ru+7uzsbNG5sLAweHh4YN68eVi7di0iIyNBCEFoaKjZ+dm6Y9m+fTsIIfD39zebBaNy5cooV64cXn75ZYwbN054Dxo0aIBBgwZh0KBBGDVqlJAOSs/w4cMhk8nw9ddfY8OGDRgwYAAUCoXRouDSpUtQKBQghAhxbcnJySCEICwsDGPGjEFQUJDZyr+5ubkghKB27do4duwYVq9ejVdeeQWEEMTExEj20ddN6tChAw4cOICpU6eiSZMmIIQYldaQAcZ1sPVYs1J2lPz8fLfSax47dkyy/ndJI2XEr1SpkuCEYJgQU6rENEMaQ/dgc8bnmTNnSgqNbt26mY2NAXSxLceOHcOvv/6K9u3b45dffjHaHbVp0wbz58+XzGytv86ePXvw4YcfmryO3laqdzAYMGAAMjIyhN9X9erVzc7T2QwdOlQUTKjVauHt7Q1KKVJTU3Ho0CHhnKEN0c/PD5RSkbs9pVT48/X1FY57enpCqVRCrVZjz549uHDhgrCrvH37ts01ekzRunVr3Lhxw2I7QggyMjKgVquFHcPff/8NhUKB+Ph4bNiwAQcPHsTOnTtFbtp169bF/v37wfM89u/fj5iYGOE7kpeXJ7yOjz/+GOfOnRO9N3FxcQgNDcXvv/+OjIwMoRjcnTt3kJmZaTTHp0+fwsfHB/PmzcPjx4/x3//+F0ePHhXU5+3atUN6erqoT2JiIqpUqQJKKW7cuIFNmzYhPz9f2J03atRIZKeTGXYsSrly5YRqc67g0qVLKFeuHPLz89G1a1eXXcdWpEoElzRyuVxSDePr6ytSvdy5c8ct1XnuiuH3u7CwUHJVrxc+RUvkAsCff/6JX3/91eT4+tQ8UrYZffVGQyxlsTZl4zFcBBZd7fft2xcAir08xW+//YYDBw4Iz0eNGoVnz57h9OnTqF69Ojp37oy9e/cCsG8RO3r0aBQWFhqlP/L09BRes1qtdkos19mzZ/HFF1+YXQQvWLAAACQzcRi+vtTUVKSlpaFVq1YAdB6Kt27dksy0oX9/9KWhf/75Z4waNUpUonrq1KlQqVTo3bs3KlasiL///ls417lzZ6Mx9d/5KVOmiI4b5hfs2bOn6FytWrVEZTiKzg8QL8yEb2CtWrWMOgEwWTveUU6ePCn8SNRqNQ4ePOiS69iDq9wmHcXwg9djWJ5V/5xhG4a7Fv0NyZBmzZqJSvHawpEjRwBAUi3x/vvv2xy9bUp9Y7gyLypYnG3DsZetW7cazc1wUWRrYb7ly5ebzJRgGIs2dOhQm8Y1h5eXl8lzeltHQECA0TnD171kyRLRuSFDhohUsoYYZi8wDH42LG4mVbZc7zatLw2t5/333wcAycWQt7e3UB7asHTHtm3bAJi+t0gtZEWfcseOHSU7Ojt1QXx8PNq3by88d9Z21VnY4y2i1WpLPDiOUsoig+3A8AcrlQk6IyND+HHZin5l+eTJExBCjFbmzso8zXGcoCoyRKVSYerUqU65hqNY+l3ZIlj0v7WLFy9CJpMZ/TVq1EiwyURHRzs0b0OsMfjn5uaaPS8VhJmfny/5OipXrixpUzNUB0qhLyVddLf222+/ATDekehJT08HpVRU9l2/MJGan0wmg1arNZqj6F06ceIELl68KHlBZwkXrVYrVI8Eyo7L35YtW3DhwgX88ccfLhMwhsZeKZiLuP0Yumr/+eefwuOxY8cCsP97WqVKFWEVCOhWvMVhSD9//jwIIVAqlYKKpiyh/x0MGTIEPM+b/bN0o3cWepuKpTLrhmosvV0iICDA4uuw5R5syfnKnthFS/Mz/E4bid8WLVqY/CAopTYVmzJkxYoVRi6E7moLkMlkaNasGZo1a2ZV3rD09HTBA0WhULjU995cNP3Nmzdddt2yzp49e4THhva+ZcuW4fDhww6NnZ6ebmS34zjOpPrDEa5duwZCCAYNGiT82G1VMZUG9DZhd3JUiYuLM3nO8Kb75ptvCo/1lXofP37suolJ4OpEu5J3QB8fHzx9+lSyw8OHD5GXlydSH5jjt99+A8/zRoZPuVzu1iWJ5XK58GeJM2fOCI/1K1xXIZPJJL8UN2/efKEyKLgCQ6NrSkoKzp8/DwB44403HB57xowZ4HlelB2hoKDA5sWVuVVrUFAQGjdujMTERMTHx5cZbYAU+s/KMFdZSePn54eVK1cCMN4R6HcQOTk5ouP63Wxxq9HNxeCY4scff7S6rcmldcWKFU0avZRKJVJSUsDzPB49eoT169dj1KhR6NWrF5YsWYIrV65Ao9GAUorBgweLvuBHjx4FIcSthYoteHp6inZx+hWIK4mKijI6ZmhsY9iHobtkaGgo3nzzTZHawh4M3W0JIdi8ebNI763Vap1SB2X//v1ISUmBTCZDcHCww+O5O4b3Jkv1UQxd8Z2FKa3E8OHD0aNHD3Tr1g2EEHAcB0IIpk+fDp7njWJSateuLTxetGiR2Ws6c6FgzpMRkPZOtBQw/9///ld4bFZns3btWiFNuxSEEFSpUgUDBw7EL7/8gl27dmHs2LFo3Lix5OrZ29vbKas/dyEzMxMnT54UnicmJhbLrsHLywuHDx8W/TEchxAirCxVKhUyMzMt/tgtcfbsWVG8AqBbvRruPObNmyfZ15bFl967yp1iwlyJoedmgwYNTLabOHGiUfCeK2nTpg2qVq2KvXv3glIKrVYLSilmzJhhUTBMnDjR5LmYmBjJcuW2YhjLtHXrVsk2mZmZIi9hfc0aSikiIiJMjm0YY2WVMcDDwwP+/v52Vch7+PAhAgICQAhBXl6ezf3dlfz8fCN1g9ROwhUQQrBp0ybRX1lWexQnhq7H3t7eNtvLiqo6AJ3dUgp9+gyp+BhAF5NkSFZWFkaPHm32+lK/Man4A0M7qt6T0FF1jKWS5pbiScyp+QwD/aZPnw5AnOuNEGJkNJ80aRIWLVoEf39/q+djyR6ln6PUe7V//36cPXvWpMeVKWbMmCE8lop8X7t2Ldq1ayfapVkbm1P0PU1NTRUe9+/f38hV+e7du6hQoYLIlmu4U9m1a5dkLFW5cuWwadMm4bnVv5r09HTUqlULhBAEBQWhV69eOHPmDB4/foycnBzk5OTg8ePHuHTpEiIiIoS21apVK/bALD2uutkWFhbiypUrRrsTewomMdwLw7Tp9pRQkMqQkJ2dLbp56NFnVTZ0vQf++d7Wq1cPa9asQXJyMjp37oxGjRqJVJ6DBg0ShMb27duF435+frhx4wamT58OQoioiujo0aPBcZxIJaOPspaK0raEYYR20RQlRZF6Pw1v0Hqblh7D31eVKlVw6tQp+Pv7C/aBffv2idoHBgaKUr8sXLjQrLCTSl1iyWZjzuit/2zee+890TwIIVAoFKhQoQKaNWuGS5cuifp9/fXXotiXdu3aifoOHTrUaNcrFVxriN67Vyrw1DA9VI8ePUAIgZ+fn5Di5f/+7/+M7m3nzp0THsfFxRm9Pl9fX7z77rtCG7vcl1JSUrBnzx60bdsWVatWRfny5VG+fHlUrVoVzZo1w65du9yi/reU140jq7Ls7GwsXrwYly9flszlVJbr2DiKlPtjScf9mEK/QjN0izfFkiVLRCu4rKwsDBw4UKQiBYBvvvkGL730ElatWoU9e/YgICDASCWmx3A1OmzYMAQHByM/Px+pqakiY7+/v79gUO3Tp49gS8jKykLDhg2xYMECI4eB5cuXCzfbjRs3ilbXPM+jY8eOWLhwocXXvWjRIowZM0a0G+B5Hl5eXvjhhx9w5MgR/O9//xPZN+bOnYtx48YJLvlz5swRqe46dOhgJIA///xzALpdVfv27fHHH3+I8rVRSlGzZk3JOSYnJ4ti5BYvXizKH3bs2DEMHDgQ69atQ15eHv7973+LAjblcrmQ5mTx4sXo0aOH6LPp0qWLSD1lmGWgKGq1GpmZmbh06RKaNWuGLl26iM4/ePBAFDtiyMmTJwVbzIMHDzBu3DicOnVKOB8YGIj58+cD0H2+/fv3F5UaaNasmaig25gxY7Bq1SrRNfT2xVWrVgk7QkPCwsIkK6YCOntkUa82Qimlu3fvRnh4uGQnd0P/Q8zJyTH5QQA6lYCUUbRLly54+vSpWSFAKQXP88jOzsazZ88wfvx4TJ482WxBpCZNmpgM9NTnknK1x5izmD17tqDDPnHihFN01O+++65RRoMtW7aY9D60lWHDhjk10HbPnj2SWXdtpbCwUJjX7du3cfToUcjlcrzzzjuSqT8M2bRpE549e4ahQ4cKgvn8+fPQaDRo06aNZB+e5/H333+jefPmosWPVqvF48ePUa1aNYdfU0mQkZEhigcqCqUUmzdvRlpaGjp27Fhi5Q0qV66M+/fvQ6FQIDMzE8nJyUhLS0N2djbS0tLw999/Y/HixQB0wkbKK/D3339HUlISWrRogddee82l8z1+/DguXryIpk2bmr2fGhIfH49Dhw6hQoUKePfddyXtymVKsISGhoLjOFSvXh1z5swpVrtDy5YtTV7vRRcsWq1W0v6k1WqxYsUKh8bW42zBwmDYSmhoKIYOHYqvvvrKYluO45Ceno4KFSoUw8yKH/eMULQDLy8vbNy4sUSuvXLlSmY8N4BSijZt2kAmk6FatWomjaccx2H06NFITk7GkydPIJPJ3CrgjcGwlgULFuD27dtWCRVAt7Msq0IFeL5jKelJ2INarRZlNVWpVDZ7YziLvXv3mqyBzfO8EGl76dKlUhHE2LBhQ2Geubm5kp5O5qCUSibiswZ7HT38/f2ZjYtRYugXlv3798fmzZvNtm3evDlGjx6N8ePHF8fUSoRSK1gYDAbDXRg4cKBIY/Lee+9h5MiRCAkJAcdxSE1NxaZNm77QLd8AAAUOSURBVLBw4UKMHz/e4fgod4cJFgaDwXACf/31Fzp27GjS29HX1xePHj16IYJYmWBxA9avX29UxMtQrVOpUiWnOFfs378fixYtMplGnFKKvXv3YsmSJaI2a9aswbZt25yaftwSX331FWbOnCl5bvXq1SI3XaVSiffee6+4psZgWOTKlStISEiAl5cXmjdvbnfy3lILZbgFq1evpuHh4UbHNRoNnTRpklOuwfO85DWKUrSNRqOhixcvdsocrCU8PJzeunXL5HmNRkPDw8PpypUri3FWDAbDGpi1000wVQmP4ziLqTKsxV7PNY7jii1dDaBLG0Epxccff2yyjf616Ot7MxgM94EJllJA0VKmeqhExUBrztnSxrCtqefmxihaAMgafvnlF7z11lvFUhCLwWA4HyZY3BzDsrL79+9HREQE8vPzMXPmTERGRqJ3796iPEKPHj1CZGQk7t69iyFDhkjWaqfPs5T27t0bvXv3NpvjrKCgAL169ULv3r0B6IIaP/zwQ/Tu3RuUUmGMiIgII2GjPxYbG4uIiAh8+OGHZjO46sefMWOGsEMylfmXwWC4L0ywuBnfffcd5s2bhwULFuCDDz4QndNnc33vvffw1VdfYefOnahWrZooe+3o0aPxxRdfoHbt2li3bp2QttuQ/v37Izo6GtHR0VAoFBgzZozJFO3lypXDO++8IzznOE5Itvf5559j586dglHfMFNqREQEoqKiwHEcWrduLfQ1rNkgxdChQ9GyZUsAuuy/hrFKDAajdMAEi5vxxRdf4JNPPsGkSZOMEsXpMfSXnzZtmujc1KlT0apVK9GxoraVLVu2CI/1NRkOHjxock4hISGi53p3ScOsud7e3qK6MIQQoQY4oKvzXTRDqxSGSQu//fZbAMZZbBkMhnvDBIsbw3GcpI3B8FjRSP6OHTuioKAA/fv3t7r+DaUUGRkZJs9bY/TnOM5oZ3T8+HHhcUJCAipWrGh2jClTpiA5ORn9+vVDv379hKy8ZT2YjMEoa5SZXGFllZ9++smm9hMmTEB4eLhoV2IN5jI328P27dvxzjvvYPDgwZDL5Th8+LDFOJhbt24Ztbly5Qq++OILaDQam+vDMxiMkoHtWEoBGo1GFEBpbgeRnJwsqilhDYQQm/tYIiMjAwsWLICfnx98fHwsCpWzZ89Kqv70VRYtGf0ZDIb7wASLmxAfHy95XKvVok+fPqI0EIa2CqkSpd9//z0KCwsxZswYAMCZM2eEutWAuCDRrFmzMHbsWLO7gaKVBU2VdNUXCwJ0TgQ//PADpk+fjnnz5mHr1q1my6nOmjXLZL2N+vXr4/79+6L+enWgYSlhBoPhHrCULm7AmjVrzJY8rVixIgYNGoTly5ejoKAAlFJUrFgRhBBkZGSAEAJPT0+MHj0ap06dwrfffoshQ4Zg4MCBmDJlCtq0aYMBAwYA0GWBnj17NmJjY0EIwcqVK0U39GXLlgnxLe3atQOlVEhlr1Ao0L9/f6xatUqIMYmKisKGDRuQnZ0NQJdeZeTIkUhLS8OSJUsQFxcn2m3Vrl0bP//8s/CcUorFixcL440aNUokRFetWiUqrxoSEoKUlBQUFBQIOzdfX18jDzoGg1FyMMHCcAkTJ06UdC0ODw/Hrl27SmBGDAajuGCqMIbT+frrr42SagK62i76evIMBqPswnYsDKej0WgwYMAAqNVqUErh4eEBjUaDr776yijGhsFglD3+HyOt8Vw/rX2fAAAAAElFTkSuQmCC)\n",
    "\n",
    " \n",
    "06/07/2022 <br>\n",
    "code by Tejas Anvekar <br>\n",
    "Speaker Tejas Anvekar\n"
   ]
  },
  {
   "cell_type": "markdown",
   "metadata": {},
   "source": [
    "## Approximating Eigenvalues"
   ]
  },
  {
   "cell_type": "markdown",
   "metadata": {},
   "source": [
    "In this section we look at some methods that can be used to approximate the eigenvalues of a matrix $A$.  Although it is possible to find the exact eigenvalues for small matrices, the approach is impractical for larger matrices.\n",
    "\n",
    "Most introductory textbooks demonstrate a direct way to compute eigenvalues of an $n\\times n$ matrix $A$ by computing roots of an associated $n$th degree polynomial, known as the *characteristic polynomial*.  For example, suppose $A$ is a $2\\times 2$ matrix.\n",
    "\n",
    "$$\n",
    "\\begin{equation}\n",
    "A = \\left[ \\begin{array}{rr} a & b  \\\\ c & d \\end{array}\\right]\n",
    "\\end{equation}\n",
    "$$\n",
    "\n",
    "The eigenvalues of $A$ are solutions to the quadratic equation $\\lambda^2 - (a+d)\\lambda + ad-bc = 0$, which can be written explicitly in terms of $a$, $b$, $c$, and $d$ using the quadratic formula.  The challenges with larger matrices are that the polynomial is more difficult to construct, and the roots cannot be easily found with a formula.\n",
    "\n",
    "The algorithms we describe in the section are iterative methods.  They generate a sequence of vectors $\\{X^{(1)}, X^{(2)}, X^{(3)}, ... \\}$ that approach a true eigenvector of the matrix under consideration.  An approximation of the corresponding eigenvalue can then be computed by multiplying the approximate eigenvector by $A$. "
   ]
  },
  {
   "cell_type": "markdown",
   "metadata": {},
   "source": [
    "### Power method\n",
    "\n",
    "The first algorithm we introduce for approximating eigenvalues is known as the **Power Method**.  This method generates a sequence of vectors by repeated matrix multiplication.  Under suitable conditions, the sequence of vectors approaches the eigenvector associated with the eigenvalue that is largest in absolute value.    \n",
    "\n",
    "For the simplest explanation, suppose that $A$ is an $n\\times n$ diagonalizable matrix with eigenvectors $\\{V_1, V_2, ... V_n\\}$, and that $\\lambda_1$ is the eigenvalue of $A$ that is largest in absolute value.  To begin the Power Method, we choose any nonzero vector and label it $X^{(0)}$.  We can express $X^{(0)}$  as a linear combination of the eigenvectors since they form a basis for $\\mathbb{R}^n$.\n",
    "\n",
    "$$\n",
    "\\begin{equation}\n",
    "X^{(0)} = c_1V_1 + c_2V_2 + ... c_nV_n\n",
    "\\end{equation}\n",
    "$$\n",
    "\n",
    "We now form a sequence of vectors $X^{(1)}$, $X^{(2)}$, $X^{(3)}$, ..., by setting $X^{(m)}= AX^{(m-1)}$.  Each of these vectors is also easly expressed in terms of the eigenvectors.\n",
    "\n",
    "$$\n",
    "\\begin{eqnarray*}\n",
    "X^{(1)} = AX^{(0)} & = & c_1AV_1 + c_2AV_2 + ... c_nAV_n \\\\\n",
    "                   & = & c_1\\lambda_1V_1 + c_2\\lambda_2V_2 + ... c_n\\lambda_nV_n \\\\\n",
    "X^{(2)} = AX^{(1)} & = & c_1\\lambda_1AV_1 + c_2\\lambda_2AV_2 + ... c_n\\lambda_nAV_n \\\\\n",
    "                   & = & c_1\\lambda_1^2V_1 + c_2\\lambda_2^2V_2 + ... c_n\\lambda_n^2V_n \\\\\n",
    "                   & \\vdots & \\\\\n",
    "X^{(m)} = AX^{(m-1)} & = & c_1\\lambda_1^{m-1}AV_1 + c_2\\lambda_2^{m-1}AV_2 + ... c_n\\lambda_n^{m-1}AV_n \\\\\n",
    "                   & = & c_1\\lambda_1^mV_1 + c_2\\lambda_2^mV_2 + ... c_n\\lambda_n^mV_n \n",
    "\\end{eqnarray*}\n",
    "$$\n",
    "\n",
    "In the expression for $X^{(m)}$, we can then factor out $\\lambda_1^m$ to understand what happens as $m$ gets large.\n",
    "\n",
    "$$\n",
    "\\begin{equation}\n",
    "X^{(m)} =  \\lambda_1^m\\left(c_1V_1 + c_2\\left(\\frac{\\lambda_2}{\\lambda_1}\\right)^mV_2 + ... c_n\\left(\\frac{\\lambda_n}{\\lambda_1}\\right)^mV_n\\right) \n",
    "\\end{equation}\n",
    "$$\n",
    "\n",
    "If $|\\lambda_1| > |\\lambda_i|$ for all $i\\neq 1$, then $|\\lambda_i/\\lambda_1|< 1$ and $(\\lambda_i/\\lambda_1)^m$ will approach zero as $m$ gets large.  This means that if we repeatedly multiply a vector by the matrix $A$, eventually we will get a vector that is very nearly in the direction of the eigenvector that corresponds to the $\\lambda_1$. "
   ]
  },
  {
   "cell_type": "markdown",
   "metadata": {},
   "source": [
    "Let's demonstrate the calculation on the matrix shown here before we discuss the method further.\n",
    "\n",
    "$$\n",
    "\\begin{equation}\n",
    "A = \\left[ \\begin{array}{rrrr} -2 & 6 & 2 & -8 \\\\ -6 & 0 & 12 & 12 \\\\ -6 & 0 & 12 & 12 \\\\ -10 & 3 & 7 & 14 \\end{array}\\right]\n",
    "\\end{equation}\n",
    "$$\n",
    "\n",
    "As a matter of practicality, it is common to scale the vectors in the sequence to unit length as the Power Method is applied.  If the vectors in the sequence are not scaled, their magnitudes will grow of $\\lambda_1>1$ or decay if $\\lambda_1<1$.    Since all components of the vectors get divided by the same factor when the vector is scaled, this step doesn't change the ultimate behavior of the sequence.  The scaled sequence of vectors still approaches the direction of the eigenvector. \n",
    "\n",
    "We choose an arbitrary $X^{(0)}$ and calculate $X^{(20)}$ using the following rule.\n",
    "\n",
    "$$\n",
    "\\begin{equation}\n",
    "X^{(m)}=\\frac{AX^{(m-1)}}{||AX^{(m-1)}||}\n",
    "\\end{equation}\n",
    "$$"
   ]
  },
  {
   "cell_type": "code",
   "execution_count": 3,
   "metadata": {},
   "outputs": [
    {
     "name": "stdout",
     "output_type": "stream",
     "text": [
      "[[ 1.57523994e-12]\n",
      " [-5.77350269e-01]\n",
      " [-5.77350269e-01]\n",
      " [-5.77350269e-01]]\n"
     ]
    }
   ],
   "source": [
    "import numpy as np\n",
    "import laguide as lag\n",
    "A = np.array([[-2, 6, 2, -8],[-6, 0, 12, 12],[-6, 0, 12, 12],[-10, 3, 7, 14]])\n",
    "X = np.array([[1],[0],[0],[0]])\n",
    "\n",
    "m = 0\n",
    "while (m < 20):\n",
    "    X = A@X\n",
    "    X = X/lag.Magnitude(X)\n",
    "    m = m + 1\n",
    "    \n",
    "print(X)"
   ]
  },
  {
   "cell_type": "markdown",
   "metadata": {},
   "source": [
    "Now if $X$ is the eigenvector of $A$ with unit magnitude, then $|AX| = |\\lambda_1X| = |\\lambda_1|$.  We can therefore approximate $|\\lambda_1|$ with $|AX|$."
   ]
  },
  {
   "cell_type": "code",
   "execution_count": 4,
   "metadata": {},
   "outputs": [
    {
     "name": "stdout",
     "output_type": "stream",
     "text": [
      "24.000000000020005\n"
     ]
    }
   ],
   "source": [
    "print(lag.Magnitude(A@X))"
   ]
  },
  {
   "cell_type": "markdown",
   "metadata": {},
   "source": [
    "It appears that 24 is an estimate for $\\lambda_1$.   To determine if our calculation is correct, we can compare $AX$ with $\\lambda_1X$.  "
   ]
  },
  {
   "cell_type": "code",
   "execution_count": 5,
   "metadata": {},
   "outputs": [
    {
     "name": "stdout",
     "output_type": "stream",
     "text": [
      "[[-4.09561274e-11]\n",
      " [-9.45021839e-12]\n",
      " [-9.45021839e-12]\n",
      " [-1.57509561e-11]]\n"
     ]
    }
   ],
   "source": [
    "print(A@X - 24*X)"
   ]
  },
  {
   "cell_type": "markdown",
   "metadata": {},
   "source": [
    "Indeed the difference $AX-24X$ small.  Note that in this case, we can even do the calculation with integer multiplication.  Notice that $X$ has 0 in the first entry and the other entries are equal.  If we set these entries to 1, the result is easy to calculate even without the aid of the computer.  (*Remember that we can change the magnitude of an eigenvector and it is still an eigenvector.*) \n",
    "\n",
    "$$\n",
    "\\begin{equation}\n",
    "AX = \\left[ \\begin{array}{rrrr} -2 & 6 & 2 & -8 \\\\ -6 & 0 & 12 & 12 \\\\ -6 & 0 & 12 & 12 \\\\ -10 & 3 & 7 & 14 \\end{array}\\right]\n",
    "\\left[ \\begin{array}{r} 0 \\\\ 1\\\\ 1 \\\\ 1 \\end{array}\\right] =\n",
    "\\left[ \\begin{array}{r} 0 \\\\ 24\\\\ 24 \\\\ 24 \\end{array}\\right] = 24X\n",
    "\\end{equation}\n",
    "$$"
   ]
  },
  {
   "cell_type": "markdown",
   "metadata": {},
   "source": [
    "In practice, we do not know how many iterations we need to perform in order to get a good approximation of the eigenvector eigenvalue.  Instead we should specify a condition upon which we will be satisfied with the approximation and terminate the iteration.  For example, since $||AX^{(m)}||\\approx \\lambda_1$ and $AX^{(m)}\\approx \\lambda_1X^{(m)}$ we might require that $AX^{(m)} - ||AX^{(m)}||X^{(m)} < \\epsilon$ for some small number $\\epsilon$ known as a tolerance.  This condition ensures that $X^{(m)}$ functions roughly like an eigenvector.  It is also best to include in the code a limit on the number of iterations that will be carried out.  This ensures that the computation will eventually end, even if a satisfactory result has not yet been achieved."
   ]
  },
  {
   "cell_type": "code",
   "execution_count": 6,
   "metadata": {},
   "outputs": [
    {
     "name": "stdout",
     "output_type": "stream",
     "text": [
      "Eigenvector is approximately:\n",
      "[[ 1.65181395e-06]\n",
      " [-5.77350269e-01]\n",
      " [-5.77350269e-01]\n",
      " [-5.77350269e-01]] \n",
      "\n",
      "Magnitude of the eigenvalue is approximately:\n",
      "24.000020980823063 \n",
      "\n",
      "Magnitude of the difference is:\n",
      "4.328470441185797e-05\n"
     ]
    }
   ],
   "source": [
    "X = np.array([[1],[0],[0],[0]])\n",
    "\n",
    "m = 0\n",
    "tolerance = 0.0001\n",
    "MAX_ITERATIONS = 100\n",
    "\n",
    "## Compute difference in stopping condition\n",
    "## Assign Y = AX to avoid computing AX multiple times\n",
    "Y = A@X\n",
    "difference = Y - lag.Magnitude(Y)*X\n",
    "\n",
    "while (m < MAX_ITERATIONS and lag.Magnitude(difference) > tolerance):\n",
    "    X = Y\n",
    "    X = X/lag.Magnitude(X)\n",
    "\n",
    "    ## Compute difference in stopping condition\n",
    "    Y = A@X\n",
    "    difference = Y - lag.Magnitude(Y)*X\n",
    "    \n",
    "    m = m + 1\n",
    "    \n",
    "print(\"Eigenvector is approximately:\")\n",
    "print(X,'\\n')\n",
    "print(\"Magnitude of the eigenvalue is approximately:\")\n",
    "print(lag.Magnitude(Y),'\\n')\n",
    "print(\"Magnitude of the difference is:\")\n",
    "print(lag.Magnitude(difference))\n"
   ]
  },
  {
   "cell_type": "markdown",
   "metadata": {},
   "source": [
    "A more common condition to require is that $||X^{(m)} - X^{(m-1})|| < \\epsilon$ for a given tolerance $\\epsilon$.  This condition mere requires that the vectors in the sequence get close to one another, not that they are actually approximate an eigenvector.  "
   ]
  },
  {
   "cell_type": "code",
   "execution_count": 7,
   "metadata": {},
   "outputs": [
    {
     "name": "stdout",
     "output_type": "stream",
     "text": [
      "Eigenvector is approximately:\n",
      "[[ 2.64294012e-05]\n",
      " [-5.77350269e-01]\n",
      " [-5.77350269e-01]\n",
      " [-5.77350269e-01]] \n",
      "\n",
      "Magnitude of the eigenvalue is approximately:\n",
      "24.000020980823063 \n",
      "\n",
      "Magnitude of the difference is:\n",
      "8.434774776931515e-05\n"
     ]
    }
   ],
   "source": [
    "X = np.array([[1],[0],[0],[0]])\n",
    "\n",
    "m = 0\n",
    "tolerance = 0.0001\n",
    "MAX_ITERATIONS = 100\n",
    "\n",
    "difference = X\n",
    "\n",
    "while (m < MAX_ITERATIONS and lag.Magnitude(difference) > tolerance):\n",
    "    X_previous = X\n",
    "    X = A@X\n",
    "    X = X/lag.Magnitude(X)\n",
    "\n",
    "    ## Compute difference in stopping condition\n",
    "    difference = X - X_previous\n",
    "    \n",
    "    m = m + 1\n",
    "    \n",
    "print(\"Eigenvector is approximately:\")\n",
    "print(X,'\\n')\n",
    "print(\"Magnitude of the eigenvalue is approximately:\")\n",
    "print(lag.Magnitude(Y),'\\n')\n",
    "print(\"Magnitude of the difference is:\")\n",
    "print(lag.Magnitude(difference))\n"
   ]
  },
  {
   "cell_type": "markdown",
   "metadata": {},
   "source": [
    "While the Power Method is easy to understand and apply, it does have disadvantages.  The most apparent disadvantage is that the method only applies to the largest eigenvalue.  This is not a huge detriment since applications often only require an approximation of the largest eigenvalue.  Also, as we will demonstrate below, it is possible to easily modify the method to approximate the other eigenvalues.  A more significant disadvantage is that the rate at which the sequence converges can be slow in some circumstances.  For example, we can see that if $|\\lambda_1|$ is close to $|\\lambda_2|$, then $|\\lambda_1/\\lambda_2|^m$ approaches zero more slowly as $m$ gets large.  The Power Method may fail to converge at all if $|\\lambda_1| = |\\lambda_2|$, which occurs if $\\lambda_1 = -\\lambda_2$, or if $\\lambda_1$ and $\\lambda_2$ are a complex conjugate pair.  Additionally, the method may perform poorly if the $V_1$ component of $X^{(0)}$ is too small.  "
   ]
  },
  {
   "cell_type": "markdown",
   "metadata": {},
   "source": [
    "### Inverse power method\n",
    "\n",
    "The **Inverse Power Method** is a modified version of the Power Method that allows us to approximate eigenvalues that are *not the largest*.  All that is needed to make the modification is two simple facts that relate changes in a matrix to changes in the eigenvalues of that matrix.  Let's suppose that $A$ is an invertible $n\\times n$ matrix with eigenvalue $\\lambda$ and corresponding eigenvector $V$, so that $AV=\\lambda V$.  If we multiply this equation by $A^{-1}$, we get $V=\\lambda A^{-1}V$, which can then be divided by $\\lambda$ to illustrate the useful fact.\n",
    "\n",
    "$$\n",
    "\\begin{equation}\n",
    "A^{-1}V = \\frac{1}{\\lambda}V\n",
    "\\end{equation}\n",
    "$$\n",
    "\n",
    "If $\\lambda$ is an eigenvalue of $A$, then $\\lambda^{-1}$ is an eigenvalue of $A$.  Furthermore the eigenvector of $A$ is also an eigenvector of $A^{-1}$.  The important point here is that if $\\lambda_n$ is the smallest eigenvalue of $A$, then $\\lambda_n^{-1}$ is the *largest* eigenvector of $A^{-1}$.  If we want to approximate the smallest eigenvalue of $A$, we can just apply the Power Method to $A^{-1}$.\n",
    "\n",
    "We demonstrate the calculation for the following $3\\times 3$ matrix.\n",
    "\n",
    "$$\n",
    "\\begin{equation}\n",
    "A = \\left[ \\begin{array}{rrrr} 9 & -1 & -3 \\\\ 0 & 6 & 0 \\\\ -6 & 3 & 6 \\end{array}\\right]\n",
    "\\end{equation}\n",
    "$$\n",
    "\n",
    "Again we choose an arbitrary $X^{(0)}$, and generate a sequence of vectors by multiplying by $A^{-1}$ and scaling the result to unit length.\n",
    "\n",
    "$$\n",
    "\\begin{equation}\n",
    "X^{(m)}=\\frac{A^{-1}X^{(m-1)}}{||A^{-1}X^{(m-1)}||}\n",
    "\\end{equation}\n",
    "$$"
   ]
  },
  {
   "cell_type": "code",
   "execution_count": 8,
   "metadata": {},
   "outputs": [
    {
     "name": "stdout",
     "output_type": "stream",
     "text": [
      "Eigenvector is approximately:\n",
      "[[-4.47193123e-01]\n",
      " [ 6.14168469e-05]\n",
      " [-8.94437425e-01]] \n",
      "\n",
      "Magnitude of the eigenvalue is A inverse is approximately:\n",
      "0.3333371476391265 \n",
      "\n",
      "Magnitude of the eigenvalue is A is approximately:\n",
      "2.999931351114087 \n",
      "\n"
     ]
    }
   ],
   "source": [
    "X = np.array([[0],[1],[0]])\n",
    "\n",
    "m = 0\n",
    "tolerance = 0.0001\n",
    "MAX_ITERATIONS = 100\n",
    "\n",
    "difference = X\n",
    "A = np.array([[9,-1,-3],[0,6,0],[-6,3,6]])\n",
    "A_inv = lag.Inverse(A)\n",
    "\n",
    "while (m < MAX_ITERATIONS and lag.Magnitude(difference) > tolerance):\n",
    "    X_previous = X\n",
    "    X = A_inv@X\n",
    "    X = X/lag.Magnitude(X)\n",
    "\n",
    "    ## Compute difference in stopping condition\n",
    "    difference = X - X_previous\n",
    "    \n",
    "    m = m + 1\n",
    "    \n",
    "print(\"Eigenvector is approximately:\")\n",
    "print(X,'\\n')\n",
    "print(\"Magnitude of the eigenvalue is A inverse is approximately:\")\n",
    "print(lag.Magnitude(A_inv@X),'\\n')\n",
    "print(\"Magnitude of the eigenvalue is A is approximately:\")\n",
    "print(lag.Magnitude(A@X),'\\n')"
   ]
  },
  {
   "cell_type": "markdown",
   "metadata": {},
   "source": [
    "The exact value of the smallest eigenvalue of $A$ is 3, which again can be verified by calculation.\n",
    "\n",
    "$$\n",
    "\\begin{equation}\n",
    "AV = \\left[ \\begin{array}{rrrr} 9 & -1 & -3 \\\\ 0 & 6 & 0 \\\\ -6 & 3 & 6 \\end{array}\\right]\n",
    "\\left[ \\begin{array}{r} 1 \\\\ 0\\\\ 2 \\end{array}\\right] =\n",
    "\\left[ \\begin{array}{r} 3 \\\\ 0 \\\\ 6 \\end{array}\\right] = 3V\n",
    "\\end{equation}\n",
    "$$\n",
    "\n",
    "In our discussion of [Inverse Matrices](Inverse_Matrices.ipynb) we noted that the construction of an inverse matrix is quite expensive since it requires the solution of $n$ systems of size $n\\times n$.  An alternative to constructing $A^{-1}$ and computing the  $X^{(m)}=A^{-1}X^{(m-1)}$ is to solve the system $AX^{(m)}=X^{(m-1)}$ to obtain $X^{(m)}$.  This means that we solve one $n\\times n$ system for every iteration.  This appears to require more work than the construction of $A^{-1}$, but in fact it is less since every system involves the same coefficient matrix.  We can therefore save much work by performing elimination only once and storing the result in an $LU$ factorization.  With the the matrix $A$ factored, each system $AX^{(m)}=X^{(m-1)}$ only requires one forward substitution and one backward substitution.  "
   ]
  },
  {
   "cell_type": "code",
   "execution_count": 9,
   "metadata": {},
   "outputs": [
    {
     "name": "stdout",
     "output_type": "stream",
     "text": [
      "Eigenvector is approximately:\n",
      "[[-4.47193123e-01]\n",
      " [ 6.14168469e-05]\n",
      " [-8.94437425e-01]] \n",
      "\n",
      "Magnitude of the eigenvalue of A inverse is approximately:\n",
      "0.3333371476391265 \n",
      "\n",
      "Magnitude of the eigenvalue is A is approximately:\n",
      "2.999931351114087 \n",
      "\n"
     ]
    }
   ],
   "source": [
    "import scipy.linalg as sla\n",
    "\n",
    "X = np.array([[0],[1],[0]])\n",
    "\n",
    "m = 0\n",
    "tolerance = 0.0001\n",
    "MAX_ITERATIONS = 100\n",
    "\n",
    "difference = X\n",
    "A = np.array([[9,-1,-3],[0,6,0],[-6,3,6]])\n",
    "LU_factorization = sla.lu_factor(A)\n",
    "\n",
    "while (m < MAX_ITERATIONS and lag.Magnitude(difference) > tolerance):\n",
    "    X_previous = X\n",
    "    X = sla.lu_solve(LU_factorization,X)\n",
    "    X = X/lag.Magnitude(X)\n",
    "    difference = X - X_previous\n",
    "    m = m + 1\n",
    "  \n",
    "print(\"Eigenvector is approximately:\")\n",
    "print(X,'\\n')\n",
    "print(\"Magnitude of the eigenvalue of A inverse is approximately:\")\n",
    "print(lag.Magnitude(sla.lu_solve(LU_factorization,X)),'\\n')\n",
    "print(\"Magnitude of the eigenvalue is A is approximately:\")\n",
    "print(lag.Magnitude(A@X),'\\n')"
   ]
  },
  {
   "cell_type": "markdown",
   "metadata": {},
   "source": [
    "#### Shifts\n",
    "\n",
    "Using a small modification to the Inverse Power Method, we can also approximate eigenvalues that are not the smallest.  For this variation of the method, we need to observe that if we \"shift\" the diagonal entries of a matrix by a scalar $\\mu$, all of the eigenvalues of the matrix are also shifted by $\\mu$.  Let $A$ be an $n\\times n$ matrix with eigenvalue $\\lambda$ and corresponding eigenvector $V$, so that $AV=\\lambda V$.  Then $(A-\\mu I)V = AV - \\mu V = \\lambda V - \\mu V = (\\lambda-\\mu)V$, which means that $V$ is also an eigenvector of the matrix $(A-\\mu I)$ corresponding to the eigenvalue $\\lambda -\\mu$.  \n",
    "\n",
    "$$\n",
    "\\begin{equation}\n",
    "\\frac{1}{\\lambda_1-\\mu}, \\frac{1}{\\lambda_2-\\mu}, \\frac{1}{\\lambda_3-\\mu}, ....,\\frac{1}{\\lambda_n-\\mu} \n",
    "\\end{equation}\n",
    "$$\n",
    "\n",
    "This is useful because it allows us to now use the Inverse Power Method to approximate the eigenvalue of $A$ that lies closest to $\\mu$.  For example, if $\\mu$ is closest to $\\lambda_2$, then $|\\lambda_2-\\mu| < |\\lambda_i -\\mu|$ for all other $i\\neq 2$, which means that $(\\lambda_2-\\mu)$ can be approximated by applying the Inverse Power Method to $(A-\\mu I)$."
   ]
  },
  {
   "cell_type": "markdown",
   "metadata": {},
   "source": [
    "We demonstrate the computation of the middle eigenvalue of the matrix from the previous example.\n",
    "\n",
    "$$\n",
    "\\begin{equation}\n",
    "A = \\left[ \\begin{array}{rrrr} 9 & -1 & -3 \\\\ 0 & 6 & 0 \\\\ -6 & 3 & 6 \\end{array}\\right]\n",
    "\\end{equation}\n",
    "$$\n",
    "\n",
    "By using the Inverse Power Method we determined that the smallest eigenvalue of $A$ is 3.  Applying the Power Method directly will show that the largest eigenvalue of $A$ is 12.  Since the third eigenvalue must lie somewhere in between these extremes, we choose $\\mu$ to be exactly in the middle at $7.5$.  Note that once we have a good approximation to the eigenvector with $X^{(m)}$, we can approximate the eigenvalue of $A$ with $||AX^{(m)}||$."
   ]
  },
  {
   "cell_type": "code",
   "execution_count": 10,
   "metadata": {},
   "outputs": [
    {
     "name": "stdout",
     "output_type": "stream",
     "text": [
      "Eigenvector is approximately:\n",
      "[[0.44232587]\n",
      " [0.88465174]\n",
      " [0.14744196]] \n",
      "\n",
      "Eigenvalue is A is approximately:\n",
      "6.0\n"
     ]
    }
   ],
   "source": [
    "X = np.array([[0],[1],[0]])\n",
    "\n",
    "m = 0\n",
    "tolerance = 0.0001\n",
    "MAX_ITERATIONS = 100\n",
    "difference = X\n",
    "\n",
    "A = np.array([[9,-1,-3],[0,6,0],[-6,3,6]])\n",
    "I = np.eye(3)\n",
    "mu = 7.5\n",
    "Shifted_A = A-mu*I\n",
    "LU_factorization = sla.lu_factor(Shifted_A)\n",
    "\n",
    "while (m < MAX_ITERATIONS and lag.Magnitude(difference) > tolerance):\n",
    "    X_previous = X\n",
    "    X = sla.lu_solve(LU_factorization,X)\n",
    "    X = X/lag.Magnitude(X)\n",
    "\n",
    "    ## Compute difference in stopping condition\n",
    "    difference = X - X_previous\n",
    "    \n",
    "    m = m + 1\n",
    "\n",
    "print(\"Eigenvector is approximately:\")\n",
    "print(X,'\\n')\n",
    "print(\"Eigenvalue is A is approximately:\")\n",
    "print(lag.Magnitude(A@X))"
   ]
  },
  {
   "cell_type": "markdown",
   "metadata": {},
   "source": [
    "### Exercises\n",
    "\n",
    "Let $A$ be the matrix from the Inverse Power Method example.\n",
    "\n",
    "$$\n",
    "\\begin{equation}\n",
    "A = \\left[ \\begin{array}{rrr} 9 & -1 & -3 \\\\ 0 & 6 & 0 \\\\ -6 & 3 & 6 \\end{array}\\right]\n",
    "\\end{equation}\n",
    "$$\n",
    "\n",
    "- Use the Power Method to approximate the largest eigenvalue $\\lambda_1$.  Verify that the exact value of $\\lambda_1$ is 12."
   ]
  },
  {
   "cell_type": "code",
   "execution_count": 11,
   "metadata": {},
   "outputs": [],
   "source": [
    "A = np.array([[9,-1,-3],[0,6,0],[-6,3,6]])\n",
    "\n",
    "## Code solution here."
   ]
  },
  {
   "cell_type": "code",
   "execution_count": 12,
   "metadata": {},
   "outputs": [
    {
     "name": "stdout",
     "output_type": "stream",
     "text": [
      "Eigenvector is approximately:\n",
      "[[0.44232587]\n",
      " [0.88465174]\n",
      " [0.14744196]] \n",
      "\n",
      "Eigenvalue is A is approximately:\n",
      "6.0\n"
     ]
    }
   ],
   "source": [
    "X = np.array([[0],[1],[0]])\n",
    "\n",
    "m = 0\n",
    "tolerance = 0.0001\n",
    "MAX_ITERATIONS = 100\n",
    "difference = X\n",
    "\n",
    "A = np.array([[9,-1,-3],[0,6,0],[-6,3,6]])\n",
    "I = np.eye(3)\n",
    "mu = 7.5\n",
    "Shifted_A = A-mu*I\n",
    "LU_factorization = sla.lu_factor(Shifted_A)\n",
    "\n",
    "while (m < MAX_ITERATIONS and lag.Magnitude(difference) > tolerance):\n",
    "    X_previous = X\n",
    "    X = sla.lu_solve(LU_factorization,X)\n",
    "    X = X/lag.Magnitude(X)\n",
    "\n",
    "    ## Compute difference in stopping condition\n",
    "    difference = X - X_previous\n",
    "    \n",
    "    m = m + 1\n",
    "\n",
    "print(\"Eigenvector is approximately:\")\n",
    "print(X,'\\n')\n",
    "print(\"Eigenvalue is A is approximately:\")\n",
    "print(lag.Magnitude(A@X))"
   ]
  },
  {
   "cell_type": "markdown",
   "metadata": {},
   "source": [
    "- Apply the Inverse Power Method with a shift of $\\mu = 10$.  Explain why the results differ from those in the example."
   ]
  },
  {
   "cell_type": "code",
   "execution_count": 13,
   "metadata": {},
   "outputs": [],
   "source": [
    "## Code solution here."
   ]
  },
  {
   "cell_type": "markdown",
   "metadata": {},
   "source": [
    "- Apply the Inverse Power Method with a shift 0f $\\mu = 7.5$ and the initial vector given below.  Explain why the sequence of vectors approach the eigenvector corresponding to $\\lambda_1$\n",
    "\n",
    "$$\n",
    "\\begin{equation}\n",
    "X^{(0)} = \\left[ \\begin{array}{r} 1 \\\\ 0  \\\\ 0 \\end{array}\\right]\n",
    "\\end{equation}\n",
    "$$"
   ]
  },
  {
   "cell_type": "code",
   "execution_count": 14,
   "metadata": {},
   "outputs": [],
   "source": [
    "## Code solution here."
   ]
  },
  {
   "cell_type": "markdown",
   "metadata": {},
   "source": [
    "Let $B$ be the following matrix.\n",
    "\n",
    "$$\n",
    "\\begin{equation}\n",
    "B = \\left[ \\begin{array}{rrrr} -2 & -18 & 6 \\\\ -11 & 3 & 11 \\\\ -27 & 15 & 31 \\end{array}\\right]\n",
    "\\end{equation}\n",
    "$$\n",
    "\n",
    "- Apply the Power Method and Inverse Power Method with shifts to approximate all eigenvalues of the matrix $B$. (*Note that one of the eigenvalues of this matrix is negative.*)"
   ]
  },
  {
   "cell_type": "code",
   "execution_count": 15,
   "metadata": {},
   "outputs": [],
   "source": [
    "## Code solution here."
   ]
  },
  {
   "cell_type": "markdown",
   "metadata": {},
   "source": [
    "- Check your results using the $\\texttt{eig}$ function in SciPy."
   ]
  },
  {
   "cell_type": "code",
   "execution_count": 16,
   "metadata": {},
   "outputs": [],
   "source": [
    "## Code solution here."
   ]
  },
  {
   "cell_type": "markdown",
   "metadata": {},
   "source": [
    "### References\n",
    "\n",
    "- Burden, Richard L. et al. *Numerical Analysis*. 10th ed., Cengage Learning, 2014\n",
    "- Golub, Gene H. and Charles F. Van Loan. *Matrix Computations*., The Johns Hopkins University Press, 1989\n"
   ]
  }
 ],
 "metadata": {
  "interpreter": {
   "hash": "a2afb2544d682dcc4cfa61d0814735a64eaf117faa72e73b2e0f0b9de2309039"
  },
  "kernelspec": {
   "display_name": "Python 3 (ipykernel)",
   "language": "python",
   "name": "python3"
  },
  "language_info": {
   "codemirror_mode": {
    "name": "ipython",
    "version": 3
   },
   "file_extension": ".py",
   "mimetype": "text/x-python",
   "name": "python",
   "nbconvert_exporter": "python",
   "pygments_lexer": "ipython3",
   "version": "3.8.10"
  }
 },
 "nbformat": 4,
 "nbformat_minor": 4
}
