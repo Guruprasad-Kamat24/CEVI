{
  "nbformat": 4,
  "nbformat_minor": 0,
  "metadata": {
    "colab": {
      "name": "BEC167_Day08.ipynb",
      "provenance": [],
      "collapsed_sections": []
    },
    "kernelspec": {
      "name": "python3",
      "display_name": "Python 3"
    },
    "language_info": {
      "name": "python"
    }
  },
  "cells": [
    {
      "cell_type": "markdown",
      "source": [
        "# **Pytorch**"
      ],
      "metadata": {
        "id": "CHA_bv5yIeJw"
      }
    },
    {
      "cell_type": "code",
      "execution_count": null,
      "metadata": {
        "id": "LuEna4ECFt3H"
      },
      "outputs": [],
      "source": [
        "import numpy as np\n",
        "import torch"
      ]
    },
    {
      "cell_type": "code",
      "source": [
        "#initializing a numpy array\n",
        "a = np.array(1)\n",
        "#initializing a tensor\n",
        "b = torch.tensor([[1,3],[1,2]])\n",
        "\n",
        "print(a)\n",
        "print(type(a))\n",
        "print(b)\n",
        "print(b[1][0].item())\n",
        "print(type(b))"
      ],
      "metadata": {
        "colab": {
          "base_uri": "https://localhost:8080/"
        },
        "id": "MZomZU6iI_8o",
        "outputId": "3ae45ee5-3690-4b78-d867-e27e3592b431"
      },
      "execution_count": null,
      "outputs": [
        {
          "output_type": "stream",
          "name": "stdout",
          "text": [
            "1\n",
            "<class 'numpy.ndarray'>\n",
            "tensor([[1, 3],\n",
            "        [1, 2]])\n",
            "1\n",
            "<class 'torch.Tensor'>\n"
          ]
        }
      ]
    },
    {
      "cell_type": "code",
      "source": [
        "a = np.array([1,3])\n",
        "b = np.array([2,4])\n",
        "print(a,b)\n",
        "print(a+b)\n",
        "print(a-b)\n",
        "print(a/b)\n",
        "print(a@b)"
      ],
      "metadata": {
        "colab": {
          "base_uri": "https://localhost:8080/"
        },
        "id": "6-0KIa84KIiM",
        "outputId": "fc72bfef-de1a-4fc1-e7fa-dab6c8250ef4"
      },
      "execution_count": null,
      "outputs": [
        {
          "output_type": "stream",
          "name": "stdout",
          "text": [
            "[1 3] [2 4]\n",
            "[3 7]\n",
            "[-1 -1]\n",
            "[0.5  0.75]\n",
            "14\n"
          ]
        }
      ]
    },
    {
      "cell_type": "code",
      "source": [
        "a = np.array([[1,3,1],[10,2,4],[1,4,2]])\n",
        "b = np.array([[1,3,2],[10,12,4],[1,4,6]])\n",
        "print(a,b)\n",
        "print(a+b)\n",
        "print(a-b)\n",
        "print(a/b)\n",
        "print(a@b)"
      ],
      "metadata": {
        "colab": {
          "base_uri": "https://localhost:8080/"
        },
        "id": "Tetpn9qENs3v",
        "outputId": "0f433695-06d7-4cca-9944-c7148dbac5ac"
      },
      "execution_count": null,
      "outputs": [
        {
          "output_type": "stream",
          "name": "stdout",
          "text": [
            "[[ 1  3  1]\n",
            " [10  2  4]\n",
            " [ 1  4  2]] [[ 1  3  2]\n",
            " [10 12  4]\n",
            " [ 1  4  6]]\n",
            "[[ 2  6  3]\n",
            " [20 14  8]\n",
            " [ 2  8  8]]\n",
            "[[  0   0  -1]\n",
            " [  0 -10   0]\n",
            " [  0   0  -4]]\n",
            "[[1.         1.         0.5       ]\n",
            " [1.         0.16666667 1.        ]\n",
            " [1.         1.         0.33333333]]\n",
            "[[32 43 20]\n",
            " [34 70 52]\n",
            " [43 59 30]]\n"
          ]
        }
      ]
    },
    {
      "cell_type": "code",
      "source": [
        "a = torch.tensor([[1,3,1],[10,2,4],[1,4,2]])\n",
        "b = torch.tensor([[1,3,2],[10,12,4],[1,4,6]])\n",
        "print(a,b)\n",
        "print(a+b)\n",
        "print(a-b)\n",
        "print(a/b)\n",
        "print(a@b)"
      ],
      "metadata": {
        "colab": {
          "base_uri": "https://localhost:8080/"
        },
        "id": "s-h_vfOhMYZ2",
        "outputId": "7bd334cd-26ad-4704-a779-7572ef113869"
      },
      "execution_count": null,
      "outputs": [
        {
          "output_type": "stream",
          "name": "stdout",
          "text": [
            "tensor([[ 1,  3,  1],\n",
            "        [10,  2,  4],\n",
            "        [ 1,  4,  2]]) tensor([[ 1,  3,  2],\n",
            "        [10, 12,  4],\n",
            "        [ 1,  4,  6]])\n",
            "tensor([[ 2,  6,  3],\n",
            "        [20, 14,  8],\n",
            "        [ 2,  8,  8]])\n",
            "tensor([[  0,   0,  -1],\n",
            "        [  0, -10,   0],\n",
            "        [  0,   0,  -4]])\n",
            "tensor([[1.0000, 1.0000, 0.5000],\n",
            "        [1.0000, 0.1667, 1.0000],\n",
            "        [1.0000, 1.0000, 0.3333]])\n",
            "tensor([[32, 43, 20],\n",
            "        [34, 70, 52],\n",
            "        [43, 59, 30]])\n"
          ]
        }
      ]
    },
    {
      "cell_type": "code",
      "source": [
        "torch.manual_seed(7)\n",
        "a = torch.randn(3,3)\n",
        "b = torch.randn(3,3)\n",
        "print('A\\n',a,'\\n')\n",
        "print('B\\n',b,'\\n')"
      ],
      "metadata": {
        "colab": {
          "base_uri": "https://localhost:8080/"
        },
        "id": "YJvf2j6INNJj",
        "outputId": "16fcd179-a67c-4a40-9433-4b474696989c"
      },
      "execution_count": null,
      "outputs": [
        {
          "output_type": "stream",
          "name": "stdout",
          "text": [
            "A\n",
            " tensor([[-0.1468,  0.7861,  0.9468],\n",
            "        [-1.1143,  1.6908, -0.8948],\n",
            "        [-0.3556,  1.2324,  0.1382]]) \n",
            "\n",
            "B\n",
            " tensor([[-1.6822,  0.3177,  0.1328],\n",
            "        [ 0.1373,  0.2405,  1.3955],\n",
            "        [ 1.3470,  2.4382,  0.2028]]) \n",
            "\n"
          ]
        }
      ]
    },
    {
      "cell_type": "code",
      "source": [
        "print(torch.add(a,b),'\\n')\n",
        "print(torch.cat((a,b),dim=1))\n",
        "print(torch.cat((a,b),dim=0))"
      ],
      "metadata": {
        "colab": {
          "base_uri": "https://localhost:8080/"
        },
        "id": "ebVC5STqOm1n",
        "outputId": "10fad4f6-3489-4ef8-ab18-eac3e45e9460"
      },
      "execution_count": null,
      "outputs": [
        {
          "output_type": "stream",
          "name": "stdout",
          "text": [
            "tensor([[-1.8290,  1.1038,  1.0796],\n",
            "        [-0.9770,  1.9313,  0.5006],\n",
            "        [ 0.9914,  3.6706,  0.3409]]) \n",
            "\n",
            "tensor([[-0.1468,  0.7861,  0.9468, -1.6822,  0.3177,  0.1328],\n",
            "        [-1.1143,  1.6908, -0.8948,  0.1373,  0.2405,  1.3955],\n",
            "        [-0.3556,  1.2324,  0.1382,  1.3470,  2.4382,  0.2028]])\n",
            "tensor([[-0.1468,  0.7861,  0.9468],\n",
            "        [-1.1143,  1.6908, -0.8948],\n",
            "        [-0.3556,  1.2324,  0.1382],\n",
            "        [-1.6822,  0.3177,  0.1328],\n",
            "        [ 0.1373,  0.2405,  1.3955],\n",
            "        [ 1.3470,  2.4382,  0.2028]])\n"
          ]
        }
      ]
    },
    {
      "cell_type": "code",
      "source": [
        "a = torch.ones((2,2),requires_grad=True)\n",
        "b = a+5\n",
        "c = b.mean()\n",
        "print('A',a)\n",
        "print('B',b)\n",
        "print('C',c)"
      ],
      "metadata": {
        "id": "gtIU4hKQO8yx",
        "colab": {
          "base_uri": "https://localhost:8080/"
        },
        "outputId": "77649ec1-8328-4ee4-c244-0f73389e793a"
      },
      "execution_count": null,
      "outputs": [
        {
          "output_type": "stream",
          "name": "stdout",
          "text": [
            "A tensor([[1., 1.],\n",
            "        [1., 1.]], requires_grad=True)\n",
            "B tensor([[6., 6.],\n",
            "        [6., 6.]], grad_fn=<AddBackward0>)\n",
            "C tensor(6., grad_fn=<MeanBackward0>)\n"
          ]
        }
      ]
    },
    {
      "cell_type": "code",
      "source": [
        "#Backward propagation\n",
        "c.backward()\n",
        "#Computing gradient\n",
        "print('By how much we a values of A\\n',a.grad)\n",
        "print('A\\n',a,'\\n')"
      ],
      "metadata": {
        "colab": {
          "base_uri": "https://localhost:8080/"
        },
        "id": "bNpfGIFEjxlC",
        "outputId": "aee816a9-bdd2-46e9-cb13-db5afbfe1779"
      },
      "execution_count": null,
      "outputs": [
        {
          "output_type": "stream",
          "name": "stdout",
          "text": [
            "By how much we a values of A\n",
            " tensor([[0.2500, 0.2500],\n",
            "        [0.2500, 0.2500]])\n",
            "A\n",
            " tensor([[1., 1.],\n",
            "        [1., 1.]], requires_grad=True) \n",
            "\n"
          ]
        }
      ]
    },
    {
      "cell_type": "code",
      "source": [
        "d = a-0.01*a.grad"
      ],
      "metadata": {
        "id": "xOOpZyBUkMHb"
      },
      "execution_count": null,
      "outputs": []
    },
    {
      "cell_type": "code",
      "source": [
        "d"
      ],
      "metadata": {
        "colab": {
          "base_uri": "https://localhost:8080/"
        },
        "id": "8FVkndJwkRm_",
        "outputId": "6c86f809-fbdf-4929-f01a-ad6ea0b27149"
      },
      "execution_count": null,
      "outputs": [
        {
          "output_type": "execute_result",
          "data": {
            "text/plain": [
              "tensor([[0.9975, 0.9975],\n",
              "        [0.9975, 0.9975]], grad_fn=<SubBackward0>)"
            ]
          },
          "metadata": {},
          "execution_count": 31
        }
      ]
    },
    {
      "cell_type": "code",
      "source": [
        "a.grad"
      ],
      "metadata": {
        "colab": {
          "base_uri": "https://localhost:8080/"
        },
        "id": "Dgz1T4rYkZua",
        "outputId": "e5250aa2-48ae-4481-ddcb-f51f05e78238"
      },
      "execution_count": null,
      "outputs": [
        {
          "output_type": "execute_result",
          "data": {
            "text/plain": [
              "tensor([[0.2500, 0.2500],\n",
              "        [0.2500, 0.2500]])"
            ]
          },
          "metadata": {},
          "execution_count": 32
        }
      ]
    },
    {
      "cell_type": "markdown",
      "source": [
        "# **Multi Layer Perceptron**"
      ],
      "metadata": {
        "id": "rOJDH01DlCt-"
      }
    },
    {
      "cell_type": "code",
      "source": [
        "#XNOR GATE using neural networks\n",
        "import torch\n",
        "x = [[0,0],\n",
        "     [0,1],\n",
        "     [1,0],\n",
        "     [1,1]]\n"
      ],
      "metadata": {
        "id": "J37TydQ-km_Q"
      },
      "execution_count": null,
      "outputs": []
    },
    {
      "cell_type": "markdown",
      "source": [
        "# **Artificial Neural Network (ANN)**"
      ],
      "metadata": {
        "id": "-qTatx2jCBNn"
      }
    },
    {
      "cell_type": "code",
      "source": [
        "x1 = list(range(1,101))\n",
        "y1 = list(range(5,501,5))\n",
        "x1 = torch.FloatTensor(x1)\n",
        "y = torch.FloatTensor(y1)\n",
        "\n",
        "## Loss Function\n",
        "def MSE(pred,gt):\n",
        "  loss = (pred-gt)**2\n",
        "  loss = (loss.mean()).sum()\n",
        "  return loss\n",
        "\n",
        "torch.manual_seed(8)\n",
        "w1 = torch.randn(1,dtype=torch.float32,requires_grad=True)\n",
        "w0 = torch.randn(1,dtype=torch.float32,requires_grad=True)\n",
        "optimizer = torch.optim.SGD([w1,w0], lr = 0.0001)\n",
        "\n",
        "alpha = 0.00001\n",
        "for i in range(5000):\n",
        "  y1 = x1*w1+w0\n",
        "  loss = MSE(y1,y)\n",
        "  optimizer.zero_grad() #flushing the gradient every epoch\n",
        "  loss.backward()\n",
        "  optimizer.step()\n",
        "  print(\"Epoch %d, Loss %f\"%(i,loss.item()),end=\"\\r\")\n",
        "\n",
        "print(\"\\n\\n Estimated parameters W1: {} W0(bias): {}\".format(w1.item(),w0.item()))\n",
        "in1=int(input())\n",
        "out=in1*w1+w0\n",
        "print(out)"
      ],
      "metadata": {
        "colab": {
          "base_uri": "https://localhost:8080/"
        },
        "id": "n6e_D9Oi4cTv",
        "outputId": "8161b8c2-62e4-4573-f684-62e7b6ff2f87"
      },
      "execution_count": null,
      "outputs": [
        {
          "output_type": "stream",
          "name": "stdout",
          "text": [
            "Epoch 4999, Loss 0.217492\n",
            "\n",
            " Estimated parameters W1: 5.014026641845703 W0(bias): -0.9397153258323669\n",
            "150\n",
            "tensor([751.1643], grad_fn=<AddBackward0>)\n"
          ]
        }
      ]
    },
    {
      "cell_type": "code",
      "source": [
        ""
      ],
      "metadata": {
        "id": "0p-fzI2A7nAA"
      },
      "execution_count": null,
      "outputs": []
    }
  ]
}